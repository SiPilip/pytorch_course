{
  "nbformat": 4,
  "nbformat_minor": 0,
  "metadata": {
    "colab": {
      "provenance": [],
      "gpuType": "T4",
      "authorship_tag": "ABX9TyPt1CLDnxPrEIi29ltvhhrn",
      "include_colab_link": true
    },
    "kernelspec": {
      "name": "python3",
      "display_name": "Python 3"
    },
    "language_info": {
      "name": "python"
    },
    "accelerator": "GPU"
  },
  "cells": [
    {
      "cell_type": "markdown",
      "metadata": {
        "id": "view-in-github",
        "colab_type": "text"
      },
      "source": [
        "<a href=\"https://colab.research.google.com/github/SiPilip/pytorch_course/blob/main/02_pytorch_classification.ipynb\" target=\"_parent\"><img src=\"https://colab.research.google.com/assets/colab-badge.svg\" alt=\"Open In Colab\"/></a>"
      ]
    },
    {
      "cell_type": "markdown",
      "source": [
        "### 02. Neural Network classification with pytorch"
      ],
      "metadata": {
        "id": "cjDTL4WuJXXS"
      }
    },
    {
      "cell_type": "code",
      "source": [
        "## 1. Buat klasifikasi data"
      ],
      "metadata": {
        "id": "qNEFmeefJ5YE"
      },
      "execution_count": 139,
      "outputs": []
    },
    {
      "cell_type": "code",
      "source": [
        "import sklearn"
      ],
      "metadata": {
        "id": "vkIi54XbJ78C"
      },
      "execution_count": 140,
      "outputs": []
    },
    {
      "cell_type": "code",
      "source": [
        "from sklearn.datasets import make_circles\n",
        "\n",
        "# Make 1000 samples\n",
        "n_samples = 1000\n",
        "\n",
        "# Create circles\n",
        "X, y = make_circles(n_samples,\n",
        "                    noise = 0.03,\n",
        "                    random_state=42)"
      ],
      "metadata": {
        "id": "Z93au41cJ9n3"
      },
      "execution_count": 141,
      "outputs": []
    },
    {
      "cell_type": "code",
      "source": [
        "len(X), len(y)"
      ],
      "metadata": {
        "colab": {
          "base_uri": "https://localhost:8080/"
        },
        "id": "c-EeOH5AKBhu",
        "outputId": "9fc39ea8-a3e6-4ccb-a71a-ae603ef7f95c"
      },
      "execution_count": 142,
      "outputs": [
        {
          "output_type": "execute_result",
          "data": {
            "text/plain": [
              "(1000, 1000)"
            ]
          },
          "metadata": {},
          "execution_count": 142
        }
      ]
    },
    {
      "cell_type": "code",
      "source": [
        "print('First samples of X')\n",
        "X[:5]"
      ],
      "metadata": {
        "colab": {
          "base_uri": "https://localhost:8080/"
        },
        "id": "xj7ELQNlKPZV",
        "outputId": "05d862eb-6b58-451d-c4fd-da9eec93f310"
      },
      "execution_count": 143,
      "outputs": [
        {
          "output_type": "stream",
          "name": "stdout",
          "text": [
            "First samples of X\n"
          ]
        },
        {
          "output_type": "execute_result",
          "data": {
            "text/plain": [
              "array([[ 0.75424625,  0.23148074],\n",
              "       [-0.75615888,  0.15325888],\n",
              "       [-0.81539193,  0.17328203],\n",
              "       [-0.39373073,  0.69288277],\n",
              "       [ 0.44220765, -0.89672343]])"
            ]
          },
          "metadata": {},
          "execution_count": 143
        }
      ]
    },
    {
      "cell_type": "code",
      "source": [
        "print('First samples of y')\n",
        "y[:5]"
      ],
      "metadata": {
        "colab": {
          "base_uri": "https://localhost:8080/"
        },
        "id": "bbTjOLJ9KTNv",
        "outputId": "1d95fb04-67aa-4195-993f-440aef546b08"
      },
      "execution_count": 144,
      "outputs": [
        {
          "output_type": "stream",
          "name": "stdout",
          "text": [
            "First samples of y\n"
          ]
        },
        {
          "output_type": "execute_result",
          "data": {
            "text/plain": [
              "array([1, 1, 1, 1, 0])"
            ]
          },
          "metadata": {},
          "execution_count": 144
        }
      ]
    },
    {
      "cell_type": "code",
      "source": [
        "# Make DataFrame of circle data\n",
        "import pandas as pd\n",
        "circles = pd.DataFrame({\"X1\": X[:,0],\n",
        "                        \"X2\": X[:,1],\n",
        "                        \"label\": y})\n",
        "\n",
        "circles.head(10)"
      ],
      "metadata": {
        "colab": {
          "base_uri": "https://localhost:8080/",
          "height": 363
        },
        "id": "IZGvIix-KdQ8",
        "outputId": "aa6cf2bf-0da4-4c5c-ba7d-d3a554b151d5"
      },
      "execution_count": 145,
      "outputs": [
        {
          "output_type": "execute_result",
          "data": {
            "text/plain": [
              "         X1        X2  label\n",
              "0  0.754246  0.231481      1\n",
              "1 -0.756159  0.153259      1\n",
              "2 -0.815392  0.173282      1\n",
              "3 -0.393731  0.692883      1\n",
              "4  0.442208 -0.896723      0\n",
              "5 -0.479646  0.676435      1\n",
              "6 -0.013648  0.803349      1\n",
              "7  0.771513  0.147760      1\n",
              "8 -0.169322 -0.793456      1\n",
              "9 -0.121486  1.021509      0"
            ],
            "text/html": [
              "\n",
              "  <div id=\"df-1e87b2b4-3dac-4839-b1d8-45937064e41b\" class=\"colab-df-container\">\n",
              "    <div>\n",
              "<style scoped>\n",
              "    .dataframe tbody tr th:only-of-type {\n",
              "        vertical-align: middle;\n",
              "    }\n",
              "\n",
              "    .dataframe tbody tr th {\n",
              "        vertical-align: top;\n",
              "    }\n",
              "\n",
              "    .dataframe thead th {\n",
              "        text-align: right;\n",
              "    }\n",
              "</style>\n",
              "<table border=\"1\" class=\"dataframe\">\n",
              "  <thead>\n",
              "    <tr style=\"text-align: right;\">\n",
              "      <th></th>\n",
              "      <th>X1</th>\n",
              "      <th>X2</th>\n",
              "      <th>label</th>\n",
              "    </tr>\n",
              "  </thead>\n",
              "  <tbody>\n",
              "    <tr>\n",
              "      <th>0</th>\n",
              "      <td>0.754246</td>\n",
              "      <td>0.231481</td>\n",
              "      <td>1</td>\n",
              "    </tr>\n",
              "    <tr>\n",
              "      <th>1</th>\n",
              "      <td>-0.756159</td>\n",
              "      <td>0.153259</td>\n",
              "      <td>1</td>\n",
              "    </tr>\n",
              "    <tr>\n",
              "      <th>2</th>\n",
              "      <td>-0.815392</td>\n",
              "      <td>0.173282</td>\n",
              "      <td>1</td>\n",
              "    </tr>\n",
              "    <tr>\n",
              "      <th>3</th>\n",
              "      <td>-0.393731</td>\n",
              "      <td>0.692883</td>\n",
              "      <td>1</td>\n",
              "    </tr>\n",
              "    <tr>\n",
              "      <th>4</th>\n",
              "      <td>0.442208</td>\n",
              "      <td>-0.896723</td>\n",
              "      <td>0</td>\n",
              "    </tr>\n",
              "    <tr>\n",
              "      <th>5</th>\n",
              "      <td>-0.479646</td>\n",
              "      <td>0.676435</td>\n",
              "      <td>1</td>\n",
              "    </tr>\n",
              "    <tr>\n",
              "      <th>6</th>\n",
              "      <td>-0.013648</td>\n",
              "      <td>0.803349</td>\n",
              "      <td>1</td>\n",
              "    </tr>\n",
              "    <tr>\n",
              "      <th>7</th>\n",
              "      <td>0.771513</td>\n",
              "      <td>0.147760</td>\n",
              "      <td>1</td>\n",
              "    </tr>\n",
              "    <tr>\n",
              "      <th>8</th>\n",
              "      <td>-0.169322</td>\n",
              "      <td>-0.793456</td>\n",
              "      <td>1</td>\n",
              "    </tr>\n",
              "    <tr>\n",
              "      <th>9</th>\n",
              "      <td>-0.121486</td>\n",
              "      <td>1.021509</td>\n",
              "      <td>0</td>\n",
              "    </tr>\n",
              "  </tbody>\n",
              "</table>\n",
              "</div>\n",
              "    <div class=\"colab-df-buttons\">\n",
              "\n",
              "  <div class=\"colab-df-container\">\n",
              "    <button class=\"colab-df-convert\" onclick=\"convertToInteractive('df-1e87b2b4-3dac-4839-b1d8-45937064e41b')\"\n",
              "            title=\"Convert this dataframe to an interactive table.\"\n",
              "            style=\"display:none;\">\n",
              "\n",
              "  <svg xmlns=\"http://www.w3.org/2000/svg\" height=\"24px\" viewBox=\"0 -960 960 960\">\n",
              "    <path d=\"M120-120v-720h720v720H120Zm60-500h600v-160H180v160Zm220 220h160v-160H400v160Zm0 220h160v-160H400v160ZM180-400h160v-160H180v160Zm440 0h160v-160H620v160ZM180-180h160v-160H180v160Zm440 0h160v-160H620v160Z\"/>\n",
              "  </svg>\n",
              "    </button>\n",
              "\n",
              "  <style>\n",
              "    .colab-df-container {\n",
              "      display:flex;\n",
              "      gap: 12px;\n",
              "    }\n",
              "\n",
              "    .colab-df-convert {\n",
              "      background-color: #E8F0FE;\n",
              "      border: none;\n",
              "      border-radius: 50%;\n",
              "      cursor: pointer;\n",
              "      display: none;\n",
              "      fill: #1967D2;\n",
              "      height: 32px;\n",
              "      padding: 0 0 0 0;\n",
              "      width: 32px;\n",
              "    }\n",
              "\n",
              "    .colab-df-convert:hover {\n",
              "      background-color: #E2EBFA;\n",
              "      box-shadow: 0px 1px 2px rgba(60, 64, 67, 0.3), 0px 1px 3px 1px rgba(60, 64, 67, 0.15);\n",
              "      fill: #174EA6;\n",
              "    }\n",
              "\n",
              "    .colab-df-buttons div {\n",
              "      margin-bottom: 4px;\n",
              "    }\n",
              "\n",
              "    [theme=dark] .colab-df-convert {\n",
              "      background-color: #3B4455;\n",
              "      fill: #D2E3FC;\n",
              "    }\n",
              "\n",
              "    [theme=dark] .colab-df-convert:hover {\n",
              "      background-color: #434B5C;\n",
              "      box-shadow: 0px 1px 3px 1px rgba(0, 0, 0, 0.15);\n",
              "      filter: drop-shadow(0px 1px 2px rgba(0, 0, 0, 0.3));\n",
              "      fill: #FFFFFF;\n",
              "    }\n",
              "  </style>\n",
              "\n",
              "    <script>\n",
              "      const buttonEl =\n",
              "        document.querySelector('#df-1e87b2b4-3dac-4839-b1d8-45937064e41b button.colab-df-convert');\n",
              "      buttonEl.style.display =\n",
              "        google.colab.kernel.accessAllowed ? 'block' : 'none';\n",
              "\n",
              "      async function convertToInteractive(key) {\n",
              "        const element = document.querySelector('#df-1e87b2b4-3dac-4839-b1d8-45937064e41b');\n",
              "        const dataTable =\n",
              "          await google.colab.kernel.invokeFunction('convertToInteractive',\n",
              "                                                    [key], {});\n",
              "        if (!dataTable) return;\n",
              "\n",
              "        const docLinkHtml = 'Like what you see? Visit the ' +\n",
              "          '<a target=\"_blank\" href=https://colab.research.google.com/notebooks/data_table.ipynb>data table notebook</a>'\n",
              "          + ' to learn more about interactive tables.';\n",
              "        element.innerHTML = '';\n",
              "        dataTable['output_type'] = 'display_data';\n",
              "        await google.colab.output.renderOutput(dataTable, element);\n",
              "        const docLink = document.createElement('div');\n",
              "        docLink.innerHTML = docLinkHtml;\n",
              "        element.appendChild(docLink);\n",
              "      }\n",
              "    </script>\n",
              "  </div>\n",
              "\n",
              "\n",
              "<div id=\"df-81c3e42b-254c-4588-af2c-025eb2a74cdf\">\n",
              "  <button class=\"colab-df-quickchart\" onclick=\"quickchart('df-81c3e42b-254c-4588-af2c-025eb2a74cdf')\"\n",
              "            title=\"Suggest charts\"\n",
              "            style=\"display:none;\">\n",
              "\n",
              "<svg xmlns=\"http://www.w3.org/2000/svg\" height=\"24px\"viewBox=\"0 0 24 24\"\n",
              "     width=\"24px\">\n",
              "    <g>\n",
              "        <path d=\"M19 3H5c-1.1 0-2 .9-2 2v14c0 1.1.9 2 2 2h14c1.1 0 2-.9 2-2V5c0-1.1-.9-2-2-2zM9 17H7v-7h2v7zm4 0h-2V7h2v10zm4 0h-2v-4h2v4z\"/>\n",
              "    </g>\n",
              "</svg>\n",
              "  </button>\n",
              "\n",
              "<style>\n",
              "  .colab-df-quickchart {\n",
              "      --bg-color: #E8F0FE;\n",
              "      --fill-color: #1967D2;\n",
              "      --hover-bg-color: #E2EBFA;\n",
              "      --hover-fill-color: #174EA6;\n",
              "      --disabled-fill-color: #AAA;\n",
              "      --disabled-bg-color: #DDD;\n",
              "  }\n",
              "\n",
              "  [theme=dark] .colab-df-quickchart {\n",
              "      --bg-color: #3B4455;\n",
              "      --fill-color: #D2E3FC;\n",
              "      --hover-bg-color: #434B5C;\n",
              "      --hover-fill-color: #FFFFFF;\n",
              "      --disabled-bg-color: #3B4455;\n",
              "      --disabled-fill-color: #666;\n",
              "  }\n",
              "\n",
              "  .colab-df-quickchart {\n",
              "    background-color: var(--bg-color);\n",
              "    border: none;\n",
              "    border-radius: 50%;\n",
              "    cursor: pointer;\n",
              "    display: none;\n",
              "    fill: var(--fill-color);\n",
              "    height: 32px;\n",
              "    padding: 0;\n",
              "    width: 32px;\n",
              "  }\n",
              "\n",
              "  .colab-df-quickchart:hover {\n",
              "    background-color: var(--hover-bg-color);\n",
              "    box-shadow: 0 1px 2px rgba(60, 64, 67, 0.3), 0 1px 3px 1px rgba(60, 64, 67, 0.15);\n",
              "    fill: var(--button-hover-fill-color);\n",
              "  }\n",
              "\n",
              "  .colab-df-quickchart-complete:disabled,\n",
              "  .colab-df-quickchart-complete:disabled:hover {\n",
              "    background-color: var(--disabled-bg-color);\n",
              "    fill: var(--disabled-fill-color);\n",
              "    box-shadow: none;\n",
              "  }\n",
              "\n",
              "  .colab-df-spinner {\n",
              "    border: 2px solid var(--fill-color);\n",
              "    border-color: transparent;\n",
              "    border-bottom-color: var(--fill-color);\n",
              "    animation:\n",
              "      spin 1s steps(1) infinite;\n",
              "  }\n",
              "\n",
              "  @keyframes spin {\n",
              "    0% {\n",
              "      border-color: transparent;\n",
              "      border-bottom-color: var(--fill-color);\n",
              "      border-left-color: var(--fill-color);\n",
              "    }\n",
              "    20% {\n",
              "      border-color: transparent;\n",
              "      border-left-color: var(--fill-color);\n",
              "      border-top-color: var(--fill-color);\n",
              "    }\n",
              "    30% {\n",
              "      border-color: transparent;\n",
              "      border-left-color: var(--fill-color);\n",
              "      border-top-color: var(--fill-color);\n",
              "      border-right-color: var(--fill-color);\n",
              "    }\n",
              "    40% {\n",
              "      border-color: transparent;\n",
              "      border-right-color: var(--fill-color);\n",
              "      border-top-color: var(--fill-color);\n",
              "    }\n",
              "    60% {\n",
              "      border-color: transparent;\n",
              "      border-right-color: var(--fill-color);\n",
              "    }\n",
              "    80% {\n",
              "      border-color: transparent;\n",
              "      border-right-color: var(--fill-color);\n",
              "      border-bottom-color: var(--fill-color);\n",
              "    }\n",
              "    90% {\n",
              "      border-color: transparent;\n",
              "      border-bottom-color: var(--fill-color);\n",
              "    }\n",
              "  }\n",
              "</style>\n",
              "\n",
              "  <script>\n",
              "    async function quickchart(key) {\n",
              "      const quickchartButtonEl =\n",
              "        document.querySelector('#' + key + ' button');\n",
              "      quickchartButtonEl.disabled = true;  // To prevent multiple clicks.\n",
              "      quickchartButtonEl.classList.add('colab-df-spinner');\n",
              "      try {\n",
              "        const charts = await google.colab.kernel.invokeFunction(\n",
              "            'suggestCharts', [key], {});\n",
              "      } catch (error) {\n",
              "        console.error('Error during call to suggestCharts:', error);\n",
              "      }\n",
              "      quickchartButtonEl.classList.remove('colab-df-spinner');\n",
              "      quickchartButtonEl.classList.add('colab-df-quickchart-complete');\n",
              "    }\n",
              "    (() => {\n",
              "      let quickchartButtonEl =\n",
              "        document.querySelector('#df-81c3e42b-254c-4588-af2c-025eb2a74cdf button');\n",
              "      quickchartButtonEl.style.display =\n",
              "        google.colab.kernel.accessAllowed ? 'block' : 'none';\n",
              "    })();\n",
              "  </script>\n",
              "</div>\n",
              "\n",
              "    </div>\n",
              "  </div>\n"
            ],
            "application/vnd.google.colaboratory.intrinsic+json": {
              "type": "dataframe",
              "variable_name": "circles",
              "summary": "{\n  \"name\": \"circles\",\n  \"rows\": 1000,\n  \"fields\": [\n    {\n      \"column\": \"X1\",\n      \"properties\": {\n        \"dtype\": \"number\",\n        \"std\": 0.6398365674574611,\n        \"min\": -1.0595024599098635,\n        \"max\": 1.0337117525463373,\n        \"num_unique_values\": 1000,\n        \"samples\": [\n          -0.3751930206933384,\n          0.015380346701456493,\n          -0.7027835978832848\n        ],\n        \"semantic_type\": \"\",\n        \"description\": \"\"\n      }\n    },\n    {\n      \"column\": \"X2\",\n      \"properties\": {\n        \"dtype\": \"number\",\n        \"std\": 0.6411559581015379,\n        \"min\": -1.0677683182718436,\n        \"max\": 1.0360036756154805,\n        \"num_unique_values\": 1000,\n        \"samples\": [\n          0.6826597225888621,\n          0.9600260220697324,\n          -0.3147169925147762\n        ],\n        \"semantic_type\": \"\",\n        \"description\": \"\"\n      }\n    },\n    {\n      \"column\": \"label\",\n      \"properties\": {\n        \"dtype\": \"number\",\n        \"std\": 0,\n        \"min\": 0,\n        \"max\": 1,\n        \"num_unique_values\": 2,\n        \"samples\": [\n          0,\n          1\n        ],\n        \"semantic_type\": \"\",\n        \"description\": \"\"\n      }\n    }\n  ]\n}"
            }
          },
          "metadata": {},
          "execution_count": 145
        }
      ]
    },
    {
      "cell_type": "code",
      "source": [
        "# Visualisasi\n",
        "import matplotlib.pyplot as plt\n",
        "plt.scatter(x=X[:,0],\n",
        "            y=X[:,1],\n",
        "            c=y,\n",
        "            cmap=plt.cm.RdYlBu)"
      ],
      "metadata": {
        "colab": {
          "base_uri": "https://localhost:8080/",
          "height": 447
        },
        "id": "n-c3ImKLLl8o",
        "outputId": "84724f35-a1e9-404e-c254-3327ea34f990"
      },
      "execution_count": 146,
      "outputs": [
        {
          "output_type": "execute_result",
          "data": {
            "text/plain": [
              "<matplotlib.collections.PathCollection at 0x7aafd66cd2d0>"
            ]
          },
          "metadata": {},
          "execution_count": 146
        },
        {
          "output_type": "display_data",
          "data": {
            "text/plain": [
              "<Figure size 640x480 with 1 Axes>"
            ],
            "image/png": "[encoded data removed]"
          },
          "metadata": {}
        }
      ]
    },
    {
      "cell_type": "markdown",
      "source": [
        "**Note:** Data yang kita pakai adalah data yang sering dimaksud sebagai dataset mainan. Sebuah dataset yang cukup kecil untuk melakukan eksperimen tapi masih tetap cukup bisa untuk diubah volumenya untuk praktik hal fundamental"
      ],
      "metadata": {
        "id": "R5oexEFrL5VX"
      }
    },
    {
      "cell_type": "markdown",
      "source": [
        "### 1.1 Check input and output shapes"
      ],
      "metadata": {
        "id": "79r6LxlBgenq"
      }
    },
    {
      "cell_type": "code",
      "source": [
        "X.shape, y.shape"
      ],
      "metadata": {
        "colab": {
          "base_uri": "https://localhost:8080/"
        },
        "id": "uOqZ1EKfg3am",
        "outputId": "5f502d37-23b6-4a69-ba8e-94aceb321628"
      },
      "execution_count": 147,
      "outputs": [
        {
          "output_type": "execute_result",
          "data": {
            "text/plain": [
              "((1000, 2), (1000,))"
            ]
          },
          "metadata": {},
          "execution_count": 147
        }
      ]
    },
    {
      "cell_type": "code",
      "source": [
        "X"
      ],
      "metadata": {
        "colab": {
          "base_uri": "https://localhost:8080/"
        },
        "id": "wLyBCwhig4qk",
        "outputId": "fa070551-2d2b-4cc0-b1ce-93d261a79881"
      },
      "execution_count": 148,
      "outputs": [
        {
          "output_type": "execute_result",
          "data": {
            "text/plain": [
              "array([[ 0.75424625,  0.23148074],\n",
              "       [-0.75615888,  0.15325888],\n",
              "       [-0.81539193,  0.17328203],\n",
              "       ...,\n",
              "       [-0.13690036, -0.81001183],\n",
              "       [ 0.67036156, -0.76750154],\n",
              "       [ 0.28105665,  0.96382443]])"
            ]
          },
          "metadata": {},
          "execution_count": 148
        }
      ]
    },
    {
      "cell_type": "code",
      "source": [
        "# Melihat contoh pertama dari fitur dan label\n",
        "X_sample = X[0]\n",
        "y_sample = y[0]\n",
        "\n",
        "print(f\" Value untuk satu sample dari X: {X_sample} dan yang sama untuk y:{y_sample}\")\n",
        "print(f\" Bentuk untuk satu sample dari X: {X_sample.shape} dan yang sama untuk y:{y_sample.shape}\")"
      ],
      "metadata": {
        "colab": {
          "base_uri": "https://localhost:8080/"
        },
        "id": "diXINVOUhB0g",
        "outputId": "6acff8a7-b626-4b04-e484-2a5712356c40"
      },
      "execution_count": 149,
      "outputs": [
        {
          "output_type": "stream",
          "name": "stdout",
          "text": [
            " Value untuk satu sample dari X: [0.75424625 0.23148074] dan yang sama untuk y:1\n",
            " Bentuk untuk satu sample dari X: (2,) dan yang sama untuk y:()\n"
          ]
        }
      ]
    },
    {
      "cell_type": "markdown",
      "source": [
        "### 1.2 Ubah data menjadi bentuk tensors dan bagi data train dan data test"
      ],
      "metadata": {
        "id": "b8QZNo4ChMQt"
      }
    },
    {
      "cell_type": "code",
      "source": [
        "import torch\n",
        "torch.__version__"
      ],
      "metadata": {
        "colab": {
          "base_uri": "https://localhost:8080/",
          "height": 36
        },
        "id": "B_NRi9T6hqF1",
        "outputId": "fb5aae39-2fcf-438c-de1c-39347212937b"
      },
      "execution_count": 150,
      "outputs": [
        {
          "output_type": "execute_result",
          "data": {
            "text/plain": [
              "'2.5.1+cu124'"
            ],
            "application/vnd.google.colaboratory.intrinsic+json": {
              "type": "string"
            }
          },
          "metadata": {},
          "execution_count": 150
        }
      ]
    },
    {
      "cell_type": "code",
      "source": [
        "# Ubah data menjadi bentuk tensors\n",
        "X = torch.from_numpy(X).type(torch.float)\n",
        "y = torch.from_numpy(y).type(torch.float)\n",
        "\n",
        "X[:5], y[:5]"
      ],
      "metadata": {
        "colab": {
          "base_uri": "https://localhost:8080/"
        },
        "id": "gEcxoADihtmN",
        "outputId": "bd16f7ec-b1f2-4950-8984-810522b5bcad"
      },
      "execution_count": 151,
      "outputs": [
        {
          "output_type": "execute_result",
          "data": {
            "text/plain": [
              "(tensor([[ 0.7542,  0.2315],\n",
              "         [-0.7562,  0.1533],\n",
              "         [-0.8154,  0.1733],\n",
              "         [-0.3937,  0.6929],\n",
              "         [ 0.4422, -0.8967]]),\n",
              " tensor([1., 1., 1., 1., 0.]))"
            ]
          },
          "metadata": {},
          "execution_count": 151
        }
      ]
    },
    {
      "cell_type": "code",
      "source": [
        "type(X), X.dtype, y.dtype"
      ],
      "metadata": {
        "colab": {
          "base_uri": "https://localhost:8080/"
        },
        "id": "V8dcsu4qkWR7",
        "outputId": "6077a278-c902-4529-a6a6-c0a0a3c74269"
      },
      "execution_count": 152,
      "outputs": [
        {
          "output_type": "execute_result",
          "data": {
            "text/plain": [
              "(torch.Tensor, torch.float32, torch.float32)"
            ]
          },
          "metadata": {},
          "execution_count": 152
        }
      ]
    },
    {
      "cell_type": "code",
      "source": [
        "# Bagi data menjadi data latih dan data tes\n",
        "from sklearn.model_selection import train_test_split\n",
        "\n",
        "X_train, X_test, y_train, y_test = train_test_split(X,\n",
        "                                                    y,\n",
        "                                                    test_size=0.2)"
      ],
      "metadata": {
        "id": "3Gxt5PLtk6d3"
      },
      "execution_count": 153,
      "outputs": []
    },
    {
      "cell_type": "code",
      "source": [
        "len(X_train), len(X_test), len(y_train), len(y_test)"
      ],
      "metadata": {
        "colab": {
          "base_uri": "https://localhost:8080/"
        },
        "id": "7XwalH4FnWBs",
        "outputId": "cf355f65-512e-4c0b-a5fd-96b6cca5e644"
      },
      "execution_count": 154,
      "outputs": [
        {
          "output_type": "execute_result",
          "data": {
            "text/plain": [
              "(800, 200, 800, 200)"
            ]
          },
          "metadata": {},
          "execution_count": 154
        }
      ]
    },
    {
      "cell_type": "code",
      "source": [
        "n_samples"
      ],
      "metadata": {
        "colab": {
          "base_uri": "https://localhost:8080/"
        },
        "id": "SOA0NOmXrl_h",
        "outputId": "7f10c072-b448-48b2-8b1b-37dc32df194e"
      },
      "execution_count": 155,
      "outputs": [
        {
          "output_type": "execute_result",
          "data": {
            "text/plain": [
              "1000"
            ]
          },
          "metadata": {},
          "execution_count": 155
        }
      ]
    },
    {
      "cell_type": "markdown",
      "source": [
        "## 2. Building a model\n",
        "\n",
        "Buat model untuk mengklasifikasi data biru dan merah\n",
        "\n",
        "Langkah:\n",
        "1. Setup device agnostic untuk berjalan dengan menggunakan GPU\n",
        "2. bangun sebuah model dengan subclassing 'nn.Module'\n",
        "3. Definisikan loss function and optimizer\n",
        "4. Buat training dan test loop"
      ],
      "metadata": {
        "id": "dHDkyip2sEXL"
      }
    },
    {
      "cell_type": "code",
      "source": [
        "# Import PyTorch and nn\n",
        "import torch\n",
        "from torch import nn\n",
        "\n",
        "# Buat device agnostic\n",
        "device = 'cuda' if torch.cuda.is_available() else 'cpu'\n",
        "device"
      ],
      "metadata": {
        "colab": {
          "base_uri": "https://localhost:8080/",
          "height": 36
        },
        "id": "8f-p65O3s5Jg",
        "outputId": "06472712-290a-432d-93b9-16f7ba71ddea"
      },
      "execution_count": 156,
      "outputs": [
        {
          "output_type": "execute_result",
          "data": {
            "text/plain": [
              "'cuda'"
            ],
            "application/vnd.google.colaboratory.intrinsic+json": {
              "type": "string"
            }
          },
          "metadata": {},
          "execution_count": 156
        }
      ]
    },
    {
      "cell_type": "code",
      "source": [
        "X_train.shape"
      ],
      "metadata": {
        "colab": {
          "base_uri": "https://localhost:8080/"
        },
        "id": "QQ1nv_iqtGXI",
        "outputId": "909d0c3f-5df8-4ad9-fc2e-a93693cd394e"
      },
      "execution_count": 157,
      "outputs": [
        {
          "output_type": "execute_result",
          "data": {
            "text/plain": [
              "torch.Size([800, 2])"
            ]
          },
          "metadata": {},
          "execution_count": 157
        }
      ]
    },
    {
      "cell_type": "code",
      "source": [
        "y_train[:5]"
      ],
      "metadata": {
        "colab": {
          "base_uri": "https://localhost:8080/"
        },
        "id": "fy4P8N4XvKSP",
        "outputId": "f357904c-aa5f-46d9-d21e-1563c2f51cc3"
      },
      "execution_count": 158,
      "outputs": [
        {
          "output_type": "execute_result",
          "data": {
            "text/plain": [
              "tensor([0., 0., 0., 1., 0.])"
            ]
          },
          "metadata": {},
          "execution_count": 158
        }
      ]
    },
    {
      "cell_type": "markdown",
      "source": [
        "# Buat model\n",
        "\n",
        "1. Subclasses `nn.Module` (hampir semua model dalam pyTorch menggunakan subclass `nn.Module`)\n",
        "2. Create 2 `nn.Linear()` layer yang memiliki kapabilitas untuk handle bentuk bentuk data\n",
        "3. Definisikan fungsi `forward()` metode yang outine the forward pass (or forward computation)\n",
        "4. Instatiate an instance dari kelas odel dan kirimkan ke target device"
      ],
      "metadata": {
        "id": "Sq6RGI9TtY3k"
      }
    },
    {
      "cell_type": "code",
      "source": [
        "# 1. Bangun model dengan subclass nn.Module\n",
        "class CircleModelV0(nn.Module):\n",
        "  def __init__(self):\n",
        "    super().__init__()\n",
        "    # 2. Buat 2 nn.Linear layer yang memiliki kapabilitas untuk menghandle bentuk dari data\n",
        "    self.layer_1 = nn.Linear(in_features=2, # ambil 2 fitur untuk dikonversi menjadi 5 fitur\n",
        "                             out_features=5)\n",
        "    self.layer_2 = nn.Linear(in_features=5, # ambil 5 fitur dari layer sebelumnya untuk mengelukarkan satu fitur saja\n",
        "                             out_features=1)\n",
        "\n",
        "    # self.two_linear_layyers = nn.Sequential(\n",
        "    #     nn.Linear(in_features = 2, out_features=5),\n",
        "    #     nn.Linear(in_features=5, out_features=1)\n",
        "    # )\n",
        "\n",
        "    # 3. Definisikan forward() metode outline untuk fungsi forward\n",
        "    def forward(self,x):\n",
        "      return self.layer_2(self.layer_1(x)) # x -> layer_1 -> layer_2 -> output\n",
        "      # return two_linear_layers\n",
        "\n",
        "# 4. Instantiate an instance of our model class and send it to the target device\n",
        "model_0 = CircleModelV0().to(device)\n",
        "model_0"
      ],
      "metadata": {
        "colab": {
          "base_uri": "https://localhost:8080/"
        },
        "id": "MtVlVybpufky",
        "outputId": "9c23847c-df73-412d-f4f5-d9c84767b9eb"
      },
      "execution_count": 159,
      "outputs": [
        {
          "output_type": "execute_result",
          "data": {
            "text/plain": [
              "CircleModelV0(\n",
              "  (layer_1): Linear(in_features=2, out_features=5, bias=True)\n",
              "  (layer_2): Linear(in_features=5, out_features=1, bias=True)\n",
              ")"
            ]
          },
          "metadata": {},
          "execution_count": 159
        }
      ]
    },
    {
      "cell_type": "code",
      "source": [
        "device\n",
        "\n",
        "next(model_0.parameters())"
      ],
      "metadata": {
        "colab": {
          "base_uri": "https://localhost:8080/"
        },
        "id": "mO1Hrp-0yt3j",
        "outputId": "d33c0bf9-cc55-4613-ac0d-7517adb6f326"
      },
      "execution_count": 160,
      "outputs": [
        {
          "output_type": "execute_result",
          "data": {
            "text/plain": [
              "Parameter containing:\n",
              "tensor([[-0.0771, -0.3122],\n",
              "        [-0.6019,  0.2404],\n",
              "        [ 0.0569,  0.1128],\n",
              "        [ 0.3145,  0.5887],\n",
              "        [-0.1224, -0.1419]], device='cuda:0', requires_grad=True)"
            ]
          },
          "metadata": {},
          "execution_count": 160
        }
      ]
    },
    {
      "cell_type": "code",
      "source": [
        "# Mari replicate model using nn.Sequential()\n",
        "\n",
        "model_0 = nn.Sequential(\n",
        "    nn.Linear(in_features =2, out_features = 5),\n",
        "    nn.Linear(in_features=5, out_features=1)\n",
        ").to(device)\n",
        "\n",
        "model_0"
      ],
      "metadata": {
        "colab": {
          "base_uri": "https://localhost:8080/"
        },
        "id": "cxXeluuVKVfj",
        "outputId": "e1b55130-5c5c-4611-d012-c89b967fdda2"
      },
      "execution_count": 161,
      "outputs": [
        {
          "output_type": "execute_result",
          "data": {
            "text/plain": [
              "Sequential(\n",
              "  (0): Linear(in_features=2, out_features=5, bias=True)\n",
              "  (1): Linear(in_features=5, out_features=1, bias=True)\n",
              ")"
            ]
          },
          "metadata": {},
          "execution_count": 161
        }
      ]
    },
    {
      "cell_type": "code",
      "source": [
        "model_0.state_dict()"
      ],
      "metadata": {
        "colab": {
          "base_uri": "https://localhost:8080/"
        },
        "id": "ua7slC2ULkbd",
        "outputId": "0efac01f-9ca7-4a21-8a42-7a392a0eb00d"
      },
      "execution_count": 162,
      "outputs": [
        {
          "output_type": "execute_result",
          "data": {
            "text/plain": [
              "OrderedDict([('0.weight',\n",
              "              tensor([[ 0.3202, -0.4614],\n",
              "                      [ 0.2247,  0.4233],\n",
              "                      [ 0.5317, -0.1213],\n",
              "                      [-0.7062, -0.4071],\n",
              "                      [ 0.0807, -0.6181]], device='cuda:0')),\n",
              "             ('0.bias',\n",
              "              tensor([ 0.3205, -0.4917, -0.2010, -0.2190, -0.0132], device='cuda:0')),\n",
              "             ('1.weight',\n",
              "              tensor([[ 0.1626, -0.3450,  0.3742,  0.4156,  0.3747]], device='cuda:0')),\n",
              "             ('1.bias', tensor([-0.2677], device='cuda:0'))])"
            ]
          },
          "metadata": {},
          "execution_count": 162
        }
      ]
    },
    {
      "cell_type": "code",
      "source": [
        "# Make predictions\n",
        "untrained_preds = model_0(X_test.to(device))\n",
        "print(f\"Panjang data prediksi: {len(untrained_preds)}, Bentuk: {untrained_preds.shape}\")\n",
        "print(f\"Panjang data test: {len(X_test)}, Shape: {X_test.shape}\")\n",
        "print(f\"10 data prediksi pertama: {untrained_preds[:10]}\")\n",
        "print(f\"First 10 labels: {y_test[:10]}\")"
      ],
      "metadata": {
        "colab": {
          "base_uri": "https://localhost:8080/"
        },
        "id": "ssz-5G5aKodz",
        "outputId": "ed354093-3670-46cf-f833-59b03dc73a5c"
      },
      "execution_count": 163,
      "outputs": [
        {
          "output_type": "stream",
          "name": "stdout",
          "text": [
            "Panjang data prediksi: 200, Bentuk: torch.Size([200, 1])\n",
            "Panjang data test: 200, Shape: torch.Size([200, 2])\n",
            "10 data prediksi pertama: tensor([[-0.7764],\n",
            "        [ 0.1122],\n",
            "        [ 0.2963],\n",
            "        [-0.7416],\n",
            "        [-0.5737],\n",
            "        [ 0.3192],\n",
            "        [-0.7527],\n",
            "        [ 0.1219],\n",
            "        [-0.7027],\n",
            "        [ 0.4230]], device='cuda:0', grad_fn=<SliceBackward0>)\n",
            "First 10 labels: tensor([0., 0., 1., 1., 1., 1., 0., 0., 0., 0.])\n"
          ]
        }
      ]
    },
    {
      "cell_type": "markdown",
      "source": [
        "### 2.1 Setup loss function and optimizer\n",
        "\n",
        "Apa loss function dan optimizer yang bisa kita gunakan?\n",
        "\n",
        "Untuk regression kita bisa menggunakan MAE (Mean Absolute Error) atau MSE (Mean Squared Error)\n",
        "\n",
        "Untuk klasifikasii kita mungkin menggunakan binaryy cross entropyy atau categorical cross entropy\n",
        "\n",
        "Sebagai pengingat loss function mengukut tingkat kesalahan yang diibuat oleh model kita\n",
        "\n",
        "Untuk optimisasii, kita akan membangun sesuatu yang cukup umum dan dapat digunakan seperti SGD atau Adam. meskipun begitu PyTorch mempunyai banyak pilihan built-in lainnya\n",
        "\n",
        "* Untuk loss function kita akan menggunakan ,torch.nn.BECWithLogitsLoss()`, for more on what binary cross entropy (BCE)\n",
        "\n"
      ],
      "metadata": {
        "id": "-Hl_u0pQ3oq9"
      }
    },
    {
      "cell_type": "code",
      "source": [
        "# Setup the loss function\n",
        "loss_fn = nn.BCEWithLogitsLoss()\n",
        "\n",
        "optimizer = torch.optim.SGD(params=model_0.parameters(),\n",
        "                            lr=0.1)"
      ],
      "metadata": {
        "id": "CL55cJtW7Izy"
      },
      "execution_count": 164,
      "outputs": []
    },
    {
      "cell_type": "code",
      "source": [
        "# Calculate accuracy\n",
        "def accuracy_fn(y_true, y_pred):\n",
        "  correct = torch.eq(y_true, y_pred).sum().item()\n",
        "  acc = (correct /len(y_pred)) * 100\n",
        "  return acc"
      ],
      "metadata": {
        "id": "jpTgZXHp9-yO"
      },
      "execution_count": 165,
      "outputs": []
    },
    {
      "cell_type": "markdown",
      "source": [
        "### 3. Train Model\n",
        "\n",
        "untuk melatih model kita, kita akan memutuhkan langkah berikut\n",
        "\n",
        "1. Forward pass\n",
        "2. Hitung loss\n",
        "3. Optimisasi zero grad\n",
        "4. Loss backward dengan backpropagation\n",
        "5. Optimisasi (gradien descent)"
      ],
      "metadata": {
        "id": "XIn-KTp6-dgO"
      }
    },
    {
      "cell_type": "markdown",
      "source": [
        "### 3.1 Dari Raw Logits -> Probabilitas Prediction -> Label Prediksi\n",
        "\n",
        "Model outtput kita akan menjadi **logits** mentah\n",
        "\n",
        "Kita bisa mengkonversi **logits** menjadii probabilitas prediksi dengan melempar sebuah fungsi aktivasi (seperti sigmoid untuk binary crossentropy dan softmax multiclass klasifikasi)\n",
        "\n",
        "Lalu kita akan mentkonversi prediksi pbabilitas kita menjadi label prediksii dengan membulatkan dan mengambil `argmax()`"
      ],
      "metadata": {
        "id": "n2tjqg8lECYd"
      }
    },
    {
      "cell_type": "code",
      "source": [
        "# Lihat 5 keluaran pertama dengan forward pass dengan test data\n",
        "model_0.eval()\n",
        "\n",
        "with torch.inference_mode():\n",
        "  y_logits = model_0(X_test.to(device))[:5]\n",
        "y_logits"
      ],
      "metadata": {
        "colab": {
          "base_uri": "https://localhost:8080/"
        },
        "id": "ZNLbwX9XEk26",
        "outputId": "cff316cc-fd1f-41a9-c8d3-de2663dc6ffb"
      },
      "execution_count": 166,
      "outputs": [
        {
          "output_type": "execute_result",
          "data": {
            "text/plain": [
              "tensor([[-0.7764],\n",
              "        [ 0.1122],\n",
              "        [ 0.2963],\n",
              "        [-0.7416],\n",
              "        [-0.5737]], device='cuda:0')"
            ]
          },
          "metadata": {},
          "execution_count": 166
        }
      ]
    },
    {
      "cell_type": "code",
      "source": [
        "y_test[:5]"
      ],
      "metadata": {
        "colab": {
          "base_uri": "https://localhost:8080/"
        },
        "id": "wJbosEIGFwPV",
        "outputId": "c6c6143d-e7ff-416f-e782-2880559c7086"
      },
      "execution_count": 167,
      "outputs": [
        {
          "output_type": "execute_result",
          "data": {
            "text/plain": [
              "tensor([0., 0., 1., 1., 1.])"
            ]
          },
          "metadata": {},
          "execution_count": 167
        }
      ]
    },
    {
      "cell_type": "code",
      "source": [
        "# gunakan aktivasi sigmoid pada model logits untuk mengubahnyya menjadi prediksi probabilitas\n",
        "y_pred_probs = torch.sigmoid(y_logits)\n",
        "y_pred_probs"
      ],
      "metadata": {
        "colab": {
          "base_uri": "https://localhost:8080/"
        },
        "id": "3uBhSQGPGGvj",
        "outputId": "6403917a-c2e3-41dc-e492-f354f4c76587"
      },
      "execution_count": 168,
      "outputs": [
        {
          "output_type": "execute_result",
          "data": {
            "text/plain": [
              "tensor([[0.3151],\n",
              "        [0.5280],\n",
              "        [0.5735],\n",
              "        [0.3226],\n",
              "        [0.3604]], device='cuda:0')"
            ]
          },
          "metadata": {},
          "execution_count": 168
        }
      ]
    },
    {
      "cell_type": "markdown",
      "source": [
        "Untuk nilai prediksi probabilitas, kita harus menggunakan pembulatan pada mereka\n",
        "\n",
        "* `y_pred_probs` >= 0.5, `y=1` (class 1)\n",
        "* `y_pred_probs` < 0.5 `y=0` (class 0)"
      ],
      "metadata": {
        "id": "ygv8p-jCG7xm"
      }
    },
    {
      "cell_type": "code",
      "source": [
        "# Find the predicted labels\n",
        "\n",
        "y_preds = torch.round(y_pred_probs)\n",
        "\n",
        "# In Full\n",
        "y_pred_labels = torch.round(torch.sigmoid(model_0(X_test.to(device))[:5]))\n",
        "\n",
        "# Chech equality\n",
        "print(torch.eq(y_preds.squeeze(), y_pred_labels.squeeze()))\n",
        "\n",
        "#Get rid of extra diimention\n",
        "y_preds.squeeze()"
      ],
      "metadata": {
        "colab": {
          "base_uri": "https://localhost:8080/"
        },
        "id": "4t8g_F8-GwUu",
        "outputId": "b67f06ef-b629-47c8-ff19-87338612b4d2"
      },
      "execution_count": 169,
      "outputs": [
        {
          "output_type": "stream",
          "name": "stdout",
          "text": [
            "tensor([True, True, True, True, True], device='cuda:0')\n"
          ]
        },
        {
          "output_type": "execute_result",
          "data": {
            "text/plain": [
              "tensor([0., 1., 1., 0., 0.], device='cuda:0')"
            ]
          },
          "metadata": {},
          "execution_count": 169
        }
      ]
    },
    {
      "cell_type": "markdown",
      "source": [
        "### 3.2 Membangun training and testing loop"
      ],
      "metadata": {
        "id": "VepC9GzAGzCZ"
      }
    },
    {
      "cell_type": "code",
      "source": [
        "torch.cuda.manual_seed(42)\n",
        "\n",
        "# Tentukan epochs\n",
        "epochs = 1000\n",
        "\n",
        "# Letakkan data pada target device\n",
        "X_train, y_train = X_train.to(device), y_train.to(device)\n",
        "X_test, y_test = X_test.to(device), y_test.to(device)\n",
        "\n",
        "# Bangun training dan evaluation loop\n",
        "for epoch in range(epochs):\n",
        "  ### Training\n",
        "  model_0.train()\n",
        "\n",
        "  # 1. Forward pass\n",
        "  y_logits = model_0(X_train).squeeze()\n",
        "  y_pred = torch.round(torch.sigmoid(y_logits)) # ubah logits -> pred probs -> pred labels\n",
        "\n",
        "  # 2. Calculate loss/accuracy\n",
        "  # loss = loss_fn(torch.sigmoid(y_logits),\n",
        "  #                y_train)\n",
        "  loss = loss_fn(y_logits, # nn.BCEWithLogitsLoss mengharapkan raw logits sebagai inputnya\n",
        "                 y_train)\n",
        "  acc = accuracy_fn(y_true=y_train,\n",
        "                    y_pred=y_pred)\n",
        "\n",
        "  # 3. Optimzer zero grad\n",
        "  optimizer.zero_grad()\n",
        "\n",
        "  # 4. Loss backward\n",
        "  loss.backward()\n",
        "\n",
        "  # 5. Optimizer step\n",
        "  optimizer.step()\n",
        "\n",
        "  # Testing\n",
        "  model_0.eval()\n",
        "  with torch.inference_mode():\n",
        "    # 1. Forward pass\n",
        "    test_logits = model_0(X_test).squeeze()\n",
        "    test_pred = torch.round(torch.sigmoid(test_logits))\n",
        "\n",
        "    # 2. Calculate test loss/acc\n",
        "    test_loss = loss_fn(test_logits,\n",
        "                        y_test)\n",
        "    test_acc = accuracy_fn(y_true=y_test,\n",
        "                           y_pred=test_pred)\n",
        "\n",
        "  # Print\n",
        "  if epoch % 10 == 0:\n",
        "    print(f\"Epoch: {epoch} | Loss: {loss:.5f}, Acc: {acc:.2f} | Test loss: {test_loss:.5f}, Test acc: {test_acc:.5f}\")"
      ],
      "metadata": {
        "colab": {
          "base_uri": "https://localhost:8080/"
        },
        "id": "jfy4IjQeI1Wr",
        "outputId": "8bfd9dff-849b-4636-90ac-f6bb31791ad1"
      },
      "execution_count": 170,
      "outputs": [
        {
          "output_type": "stream",
          "name": "stdout",
          "text": [
            "Epoch: 0 | Loss: 0.72329, Acc: 48.00 | Test loss: 0.71451, Test acc: 51.50000\n",
            "Epoch: 10 | Loss: 0.71471, Acc: 48.12 | Test loss: 0.70711, Test acc: 50.00000\n",
            "Epoch: 20 | Loss: 0.70925, Acc: 48.12 | Test loss: 0.70286, Test acc: 50.00000\n",
            "Epoch: 30 | Loss: 0.70554, Acc: 48.50 | Test loss: 0.70030, Test acc: 50.00000\n",
            "Epoch: 40 | Loss: 0.70288, Acc: 48.38 | Test loss: 0.69869, Test acc: 50.50000\n",
            "Epoch: 50 | Loss: 0.70090, Acc: 48.88 | Test loss: 0.69767, Test acc: 50.00000\n",
            "Epoch: 60 | Loss: 0.69940, Acc: 48.62 | Test loss: 0.69700, Test acc: 50.50000\n",
            "Epoch: 70 | Loss: 0.69822, Acc: 48.88 | Test loss: 0.69657, Test acc: 49.00000\n",
            "Epoch: 80 | Loss: 0.69729, Acc: 49.12 | Test loss: 0.69629, Test acc: 50.50000\n",
            "Epoch: 90 | Loss: 0.69655, Acc: 48.38 | Test loss: 0.69612, Test acc: 50.50000\n",
            "Epoch: 100 | Loss: 0.69594, Acc: 48.75 | Test loss: 0.69602, Test acc: 49.00000\n",
            "Epoch: 110 | Loss: 0.69545, Acc: 48.62 | Test loss: 0.69597, Test acc: 49.50000\n",
            "Epoch: 120 | Loss: 0.69504, Acc: 48.88 | Test loss: 0.69596, Test acc: 49.00000\n",
            "Epoch: 130 | Loss: 0.69470, Acc: 49.25 | Test loss: 0.69596, Test acc: 49.00000\n",
            "Epoch: 140 | Loss: 0.69441, Acc: 49.50 | Test loss: 0.69599, Test acc: 48.00000\n",
            "Epoch: 150 | Loss: 0.69417, Acc: 49.00 | Test loss: 0.69602, Test acc: 48.50000\n",
            "Epoch: 160 | Loss: 0.69397, Acc: 48.88 | Test loss: 0.69606, Test acc: 47.50000\n",
            "Epoch: 170 | Loss: 0.69379, Acc: 49.12 | Test loss: 0.69610, Test acc: 48.50000\n",
            "Epoch: 180 | Loss: 0.69365, Acc: 48.50 | Test loss: 0.69615, Test acc: 47.50000\n",
            "Epoch: 190 | Loss: 0.69352, Acc: 48.38 | Test loss: 0.69620, Test acc: 47.50000\n",
            "Epoch: 200 | Loss: 0.69341, Acc: 48.38 | Test loss: 0.69625, Test acc: 47.50000\n",
            "Epoch: 210 | Loss: 0.69332, Acc: 48.75 | Test loss: 0.69629, Test acc: 47.00000\n",
            "Epoch: 220 | Loss: 0.69324, Acc: 49.00 | Test loss: 0.69634, Test acc: 46.00000\n",
            "Epoch: 230 | Loss: 0.69317, Acc: 48.88 | Test loss: 0.69638, Test acc: 45.00000\n",
            "Epoch: 240 | Loss: 0.69311, Acc: 48.50 | Test loss: 0.69642, Test acc: 44.50000\n",
            "Epoch: 250 | Loss: 0.69306, Acc: 49.00 | Test loss: 0.69646, Test acc: 45.50000\n",
            "Epoch: 260 | Loss: 0.69302, Acc: 49.25 | Test loss: 0.69650, Test acc: 45.00000\n",
            "Epoch: 270 | Loss: 0.69298, Acc: 48.75 | Test loss: 0.69653, Test acc: 45.00000\n",
            "Epoch: 280 | Loss: 0.69294, Acc: 48.75 | Test loss: 0.69657, Test acc: 45.50000\n",
            "Epoch: 290 | Loss: 0.69291, Acc: 49.25 | Test loss: 0.69660, Test acc: 44.50000\n",
            "Epoch: 300 | Loss: 0.69289, Acc: 49.62 | Test loss: 0.69663, Test acc: 43.50000\n",
            "Epoch: 310 | Loss: 0.69287, Acc: 49.00 | Test loss: 0.69665, Test acc: 44.00000\n",
            "Epoch: 320 | Loss: 0.69285, Acc: 49.12 | Test loss: 0.69668, Test acc: 43.00000\n",
            "Epoch: 330 | Loss: 0.69283, Acc: 49.38 | Test loss: 0.69670, Test acc: 42.00000\n",
            "Epoch: 340 | Loss: 0.69282, Acc: 49.00 | Test loss: 0.69673, Test acc: 41.50000\n",
            "Epoch: 350 | Loss: 0.69281, Acc: 49.50 | Test loss: 0.69675, Test acc: 42.00000\n",
            "Epoch: 360 | Loss: 0.69279, Acc: 49.38 | Test loss: 0.69677, Test acc: 41.50000\n",
            "Epoch: 370 | Loss: 0.69279, Acc: 49.88 | Test loss: 0.69678, Test acc: 42.00000\n",
            "Epoch: 380 | Loss: 0.69278, Acc: 49.62 | Test loss: 0.69680, Test acc: 42.00000\n",
            "Epoch: 390 | Loss: 0.69277, Acc: 49.38 | Test loss: 0.69682, Test acc: 44.00000\n",
            "Epoch: 400 | Loss: 0.69276, Acc: 49.50 | Test loss: 0.69683, Test acc: 43.50000\n",
            "Epoch: 410 | Loss: 0.69276, Acc: 49.75 | Test loss: 0.69684, Test acc: 43.00000\n",
            "Epoch: 420 | Loss: 0.69275, Acc: 49.62 | Test loss: 0.69685, Test acc: 42.50000\n",
            "Epoch: 430 | Loss: 0.69275, Acc: 49.75 | Test loss: 0.69687, Test acc: 43.50000\n",
            "Epoch: 440 | Loss: 0.69275, Acc: 49.62 | Test loss: 0.69688, Test acc: 43.50000\n",
            "Epoch: 450 | Loss: 0.69274, Acc: 49.62 | Test loss: 0.69689, Test acc: 43.50000\n",
            "Epoch: 460 | Loss: 0.69274, Acc: 49.25 | Test loss: 0.69689, Test acc: 42.50000\n",
            "Epoch: 470 | Loss: 0.69274, Acc: 49.50 | Test loss: 0.69690, Test acc: 43.00000\n",
            "Epoch: 480 | Loss: 0.69273, Acc: 49.62 | Test loss: 0.69691, Test acc: 43.00000\n",
            "Epoch: 490 | Loss: 0.69273, Acc: 49.62 | Test loss: 0.69692, Test acc: 43.00000\n",
            "Epoch: 500 | Loss: 0.69273, Acc: 49.75 | Test loss: 0.69692, Test acc: 42.00000\n",
            "Epoch: 510 | Loss: 0.69273, Acc: 49.62 | Test loss: 0.69693, Test acc: 42.00000\n",
            "Epoch: 520 | Loss: 0.69273, Acc: 49.88 | Test loss: 0.69694, Test acc: 42.00000\n",
            "Epoch: 530 | Loss: 0.69273, Acc: 49.75 | Test loss: 0.69694, Test acc: 42.50000\n",
            "Epoch: 540 | Loss: 0.69273, Acc: 50.00 | Test loss: 0.69695, Test acc: 41.50000\n",
            "Epoch: 550 | Loss: 0.69273, Acc: 50.00 | Test loss: 0.69695, Test acc: 41.00000\n",
            "Epoch: 560 | Loss: 0.69273, Acc: 50.00 | Test loss: 0.69695, Test acc: 41.00000\n",
            "Epoch: 570 | Loss: 0.69272, Acc: 50.00 | Test loss: 0.69696, Test acc: 40.50000\n",
            "Epoch: 580 | Loss: 0.69272, Acc: 50.38 | Test loss: 0.69696, Test acc: 40.50000\n",
            "Epoch: 590 | Loss: 0.69272, Acc: 50.38 | Test loss: 0.69697, Test acc: 40.50000\n",
            "Epoch: 600 | Loss: 0.69272, Acc: 50.38 | Test loss: 0.69697, Test acc: 40.50000\n",
            "Epoch: 610 | Loss: 0.69272, Acc: 50.25 | Test loss: 0.69697, Test acc: 40.50000\n",
            "Epoch: 620 | Loss: 0.69272, Acc: 50.00 | Test loss: 0.69697, Test acc: 40.50000\n",
            "Epoch: 630 | Loss: 0.69272, Acc: 49.88 | Test loss: 0.69698, Test acc: 40.50000\n",
            "Epoch: 640 | Loss: 0.69272, Acc: 50.12 | Test loss: 0.69698, Test acc: 40.50000\n",
            "Epoch: 650 | Loss: 0.69272, Acc: 50.25 | Test loss: 0.69698, Test acc: 40.50000\n",
            "Epoch: 660 | Loss: 0.69272, Acc: 50.38 | Test loss: 0.69698, Test acc: 40.50000\n",
            "Epoch: 670 | Loss: 0.69272, Acc: 50.25 | Test loss: 0.69698, Test acc: 40.50000\n",
            "Epoch: 680 | Loss: 0.69272, Acc: 50.12 | Test loss: 0.69699, Test acc: 40.50000\n",
            "Epoch: 690 | Loss: 0.69272, Acc: 50.12 | Test loss: 0.69699, Test acc: 40.50000\n",
            "Epoch: 700 | Loss: 0.69272, Acc: 50.12 | Test loss: 0.69699, Test acc: 40.00000\n",
            "Epoch: 710 | Loss: 0.69272, Acc: 50.12 | Test loss: 0.69699, Test acc: 40.00000\n",
            "Epoch: 720 | Loss: 0.69272, Acc: 50.12 | Test loss: 0.69699, Test acc: 40.00000\n",
            "Epoch: 730 | Loss: 0.69272, Acc: 50.00 | Test loss: 0.69699, Test acc: 40.00000\n",
            "Epoch: 740 | Loss: 0.69272, Acc: 50.00 | Test loss: 0.69699, Test acc: 40.00000\n",
            "Epoch: 750 | Loss: 0.69272, Acc: 50.00 | Test loss: 0.69699, Test acc: 40.00000\n",
            "Epoch: 760 | Loss: 0.69272, Acc: 50.00 | Test loss: 0.69700, Test acc: 40.00000\n",
            "Epoch: 770 | Loss: 0.69272, Acc: 50.00 | Test loss: 0.69700, Test acc: 40.00000\n",
            "Epoch: 780 | Loss: 0.69272, Acc: 50.00 | Test loss: 0.69700, Test acc: 40.00000\n",
            "Epoch: 790 | Loss: 0.69272, Acc: 50.00 | Test loss: 0.69700, Test acc: 40.00000\n",
            "Epoch: 800 | Loss: 0.69272, Acc: 49.88 | Test loss: 0.69700, Test acc: 40.00000\n",
            "Epoch: 810 | Loss: 0.69272, Acc: 49.88 | Test loss: 0.69700, Test acc: 40.00000\n",
            "Epoch: 820 | Loss: 0.69272, Acc: 49.88 | Test loss: 0.69700, Test acc: 40.00000\n",
            "Epoch: 830 | Loss: 0.69272, Acc: 49.88 | Test loss: 0.69700, Test acc: 40.00000\n",
            "Epoch: 840 | Loss: 0.69272, Acc: 49.88 | Test loss: 0.69700, Test acc: 40.00000\n",
            "Epoch: 850 | Loss: 0.69272, Acc: 49.88 | Test loss: 0.69700, Test acc: 40.00000\n",
            "Epoch: 860 | Loss: 0.69272, Acc: 49.88 | Test loss: 0.69700, Test acc: 40.00000\n",
            "Epoch: 870 | Loss: 0.69272, Acc: 49.88 | Test loss: 0.69700, Test acc: 40.00000\n",
            "Epoch: 880 | Loss: 0.69272, Acc: 49.88 | Test loss: 0.69700, Test acc: 40.00000\n",
            "Epoch: 890 | Loss: 0.69272, Acc: 50.00 | Test loss: 0.69700, Test acc: 40.00000\n",
            "Epoch: 900 | Loss: 0.69272, Acc: 50.12 | Test loss: 0.69700, Test acc: 40.00000\n",
            "Epoch: 910 | Loss: 0.69272, Acc: 50.12 | Test loss: 0.69700, Test acc: 40.00000\n",
            "Epoch: 920 | Loss: 0.69272, Acc: 50.12 | Test loss: 0.69700, Test acc: 40.00000\n",
            "Epoch: 930 | Loss: 0.69272, Acc: 50.12 | Test loss: 0.69700, Test acc: 40.00000\n",
            "Epoch: 940 | Loss: 0.69272, Acc: 50.25 | Test loss: 0.69700, Test acc: 40.00000\n",
            "Epoch: 950 | Loss: 0.69272, Acc: 50.25 | Test loss: 0.69700, Test acc: 40.00000\n",
            "Epoch: 960 | Loss: 0.69272, Acc: 50.12 | Test loss: 0.69701, Test acc: 40.00000\n",
            "Epoch: 970 | Loss: 0.69272, Acc: 50.12 | Test loss: 0.69701, Test acc: 40.00000\n",
            "Epoch: 980 | Loss: 0.69272, Acc: 50.12 | Test loss: 0.69701, Test acc: 40.00000\n",
            "Epoch: 990 | Loss: 0.69272, Acc: 50.12 | Test loss: 0.69701, Test acc: 40.00000\n"
          ]
        }
      ]
    },
    {
      "cell_type": "markdown",
      "source": [
        "## 4. Buat prediksi dan evaluasi modelnya\n",
        "\n",
        "Dari metrik terlihat bahwa model kita tidak belajar apapun\n",
        "\n",
        "Untuk menganalisisnya mari membuat prediksi dan buat visualisasinya\n",
        "\n",
        "Untuk melakukannya kita akan memanggil fungsi yakni `plot_decision_boundary()`"
      ],
      "metadata": {
        "id": "hW3_h6tXJBAw"
      }
    },
    {
      "cell_type": "code",
      "source": [
        "import requests\n",
        "from pathlib import Path\n",
        "\n",
        "# Unduh fungsi pembantu dari repo Learn Pytorch\n",
        "if Path(\"helper_funciton.py\").is_file():\n",
        "  print(\"helper_function.py sudah ada!\")\n",
        "else:\n",
        "  print(\"Mengunduh helper_functions.py\")\n",
        "  request = requests.get(\"https://raw.githubusercontent.com/mrdbourke/pytorch-deep-learning/refs/heads/main/helper_functions.py\")\n",
        "  with open(\"helper_functions.py\", 'wb') as f:\n",
        "    f.write(request.content)\n",
        "\n",
        "from helper_functions import plot_predictions, plot_decision_boundary"
      ],
      "metadata": {
        "colab": {
          "base_uri": "https://localhost:8080/"
        },
        "id": "LbZyRcrer3hJ",
        "outputId": "0838d900-7084-4aba-8b0f-9fa810c6b2e7"
      },
      "execution_count": 171,
      "outputs": [
        {
          "output_type": "stream",
          "name": "stdout",
          "text": [
            "Mengunduh helper_functions.py\n"
          ]
        }
      ]
    },
    {
      "cell_type": "code",
      "source": [
        "# Plot decision boundary dr model\n",
        "\n",
        "plt.figure(figsize=(12,6))\n",
        "plt.subplot(1,2,1)\n",
        "plt.title(\"Train\")\n",
        "plot_decision_boundary(model_0, X_train, y_train)\n",
        "plt.subplot(1,2,2)\n",
        "plt.title(\"Test\")\n",
        "plot_decision_boundary(model_0,X_test, y_test)"
      ],
      "metadata": {
        "colab": {
          "base_uri": "https://localhost:8080/",
          "height": 383
        },
        "id": "EsyiIfPqsghx",
        "outputId": "740ceb2c-bf3a-44de-e500-6b9354e33b5f"
      },
      "execution_count": 172,
      "outputs": [
        {
          "output_type": "display_data",
          "data": {
            "text/plain": [
              "<Figure size 1200x600 with 2 Axes>"
            ],
            "image/png": "[encoded data removed]"
          },
          "metadata": {}
        }
      ]
    },
    {
      "cell_type": "code",
      "source": [
        "## 5. Improvisasi model"
      ],
      "metadata": {
        "id": "pwIztbGetZBV"
      },
      "execution_count": 172,
      "outputs": []
    }
  ]
}