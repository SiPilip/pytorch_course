{
  "nbformat": 4,
  "nbformat_minor": 0,
  "metadata": {
    "colab": {
      "provenance": [],
      "authorship_tag": "ABX9TyNJAPiXmErFciGuiLPwzqR4",
      "include_colab_link": true
    },
    "kernelspec": {
      "name": "python3",
      "display_name": "Python 3"
    },
    "language_info": {
      "name": "python"
    }
  },
  "cells": [
    {
      "cell_type": "markdown",
      "metadata": {
        "id": "view-in-github",
        "colab_type": "text"
      },
      "source": [
        "<a href=\"https://colab.research.google.com/github/SiPilip/pytorch_course/blob/main/04_pytorch_custom_datasets.ipynb\" target=\"_parent\"><img src=\"https://colab.research.google.com/assets/colab-badge.svg\" alt=\"Open In Colab\"/></a>"
      ]
    },
    {
      "cell_type": "markdown",
      "source": [
        "# 04. PyTorch Custom Dataset\n",
        "\n",
        "Kita sudah menggunakan beberapa dataset dengan pytorch before\n",
        "\n",
        "Tetapi bagaiman jika kita ingin menggunakan data sendiri\n",
        "\n",
        "Salah satu cara untuk melakukannya: Dataset kustom\n",
        "\n",
        "## Domain Libraries\n",
        "\n",
        "Bergantung pada apa yang kamu kerjakan, citra, teks, audio, kamu akan melihat tiap PyTorch domain libraries untuk data yang sudah ada berdasarkan fungsi dan kustom data loader"
      ],
      "metadata": {
        "id": "yBq9xh1yHrg7"
      }
    },
    {
      "cell_type": "markdown",
      "source": [
        "# 0. Import PyTorch dan setup agnostic device"
      ],
      "metadata": {
        "id": "Hzj8NmGxITdX"
      }
    },
    {
      "cell_type": "code",
      "source": [
        "import torch\n",
        "from torch import nn\n",
        "\n",
        "torch.__version__"
      ],
      "metadata": {
        "colab": {
          "base_uri": "https://localhost:8080/",
          "height": 36
        },
        "id": "Ap2jMHlIIXT8",
        "outputId": "c2ffe4cf-51e2-4e2c-e407-46ceed4d535a"
      },
      "execution_count": 4,
      "outputs": [
        {
          "output_type": "execute_result",
          "data": {
            "text/plain": [
              "'2.5.1+cu124'"
            ],
            "application/vnd.google.colaboratory.intrinsic+json": {
              "type": "string"
            }
          },
          "metadata": {},
          "execution_count": 4
        }
      ]
    },
    {
      "cell_type": "code",
      "source": [
        "# Setup perangkat agnostik\n",
        "device = 'cuda' if torch.cuda.is_available() else 'cpu'"
      ],
      "metadata": {
        "id": "pPg7YNqWIZ39"
      },
      "execution_count": 5,
      "outputs": []
    },
    {
      "cell_type": "code",
      "source": [
        "device"
      ],
      "metadata": {
        "colab": {
          "base_uri": "https://localhost:8080/",
          "height": 36
        },
        "id": "yA1-XXCYIgRq",
        "outputId": "e3ad0c77-ab08-4ab6-e46d-8bc8c5562e5a"
      },
      "execution_count": 6,
      "outputs": [
        {
          "output_type": "execute_result",
          "data": {
            "text/plain": [
              "'cpu'"
            ],
            "application/vnd.google.colaboratory.intrinsic+json": {
              "type": "string"
            }
          },
          "metadata": {},
          "execution_count": 6
        }
      ]
    },
    {
      "cell_type": "markdown",
      "source": [
        "## 1. Ambil Data\n",
        "\n",
        "Dataset kita adalah subset dari Food101 Dataset\n",
        "\n",
        "Food101 dimulai dari 101 kelas berbeda dari makanan (750 Training, 250 Testing)\n",
        "\n",
        "Dataset kita dimulai dari 3 kelas dan hanya 10% dari gambar (75 Training, 25 Testing)\n",
        "\n",
        "Ketika mencoba pembelajaran mesil, ini adalah hal penting untuk melakukan dari kecil lalu meningkatkannya ketika dibutuhkan.\n",
        "\n",
        "Intinya adalah seberapa cepat kita dapat bereksperiment"
      ],
      "metadata": {
        "id": "qdBjbYJvIhFa"
      }
    },
    {
      "cell_type": "code",
      "source": [
        "import requests\n",
        "import zipfile\n",
        "from pathlib import Path\n",
        "\n",
        "# Buat jalur untuk folder data\n",
        "data_path = Path(\"data/\")\n",
        "image_path = data_path / \"pizza_steak_sushi\"\n",
        "\n",
        "# Jika folder gambar tidak ada, download dan siapkan\n",
        "if image_path.is_dir():\n",
        "  print(f\"{image_path} direktori sudah ada...\")\n",
        "else:\n",
        "  print(f\"{image_path} belum ada, membuat...\")\n",
        "  image_path.mkdir(parents=True, exist_ok=True)"
      ],
      "metadata": {
        "colab": {
          "base_uri": "https://localhost:8080/"
        },
        "id": "TUk2wg9wJnwa",
        "outputId": "5ebe3c8e-7cf6-4304-93ea-4ddb74e71bef"
      },
      "execution_count": 7,
      "outputs": [
        {
          "output_type": "stream",
          "name": "stdout",
          "text": [
            "data/pizza_steak_sushi belum ada, membuat...\n"
          ]
        }
      ]
    },
    {
      "cell_type": "code",
      "source": [
        "# Unduh pizza, steak, dan sushi data\n",
        "with open(data_path / \"pizza_steak_sushi.zip\", \"wb\") as f:\n",
        "  request = requests.get(\"https://raw.githubusercontent.com/mrdbourke/pytorch-deep-learning/refs/heads/main/data/pizza_steak_sushi.zip\")\n",
        "  print(\"Downloading pizza, steak sushi data\")\n",
        "  f.write(request.content)\n",
        "\n",
        "# Unzip data\n",
        "with zipfile.ZipFile(data_path / \"pizza_steak_sushi.zip\", \"r\") as zip_ref:\n",
        "  print(\"Unzipping data\")\n",
        "  zip_ref.extractall(image_path)"
      ],
      "metadata": {
        "colab": {
          "base_uri": "https://localhost:8080/"
        },
        "id": "Cs7IgdSiKFLW",
        "outputId": "51954005-3a9e-46d7-fdac-0a23df3f7cfb"
      },
      "execution_count": 8,
      "outputs": [
        {
          "output_type": "stream",
          "name": "stdout",
          "text": [
            "Downloading pizza, steak sushi data\n",
            "Unzipping data\n"
          ]
        }
      ]
    },
    {
      "cell_type": "markdown",
      "source": [
        "## 2. Menjadi satu dengan data (preparasi data, dan eksplorasi data)"
      ],
      "metadata": {
        "id": "SaTOAdLsLEO0"
      }
    },
    {
      "cell_type": "code",
      "source": [
        "import os\n",
        "def walk_through_dir(dir_path):\n",
        "  for dirpath, dirnames, filenames in os.walk(dir_path):\n",
        "    print(f\"Ada {len(dirnames)} direktori dan {len(filenames)} gambar didalam '{dirpath}'.\")"
      ],
      "metadata": {
        "id": "Johhp-MhL_-V"
      },
      "execution_count": 9,
      "outputs": []
    },
    {
      "cell_type": "code",
      "source": [
        "walk_through_dir(image_path)"
      ],
      "metadata": {
        "colab": {
          "base_uri": "https://localhost:8080/"
        },
        "id": "GwayJWNMMZI7",
        "outputId": "e00be2d2-746a-438d-cb6f-441894a79c75"
      },
      "execution_count": 10,
      "outputs": [
        {
          "output_type": "stream",
          "name": "stdout",
          "text": [
            "Ada 2 direktori dan 0 gambar didalam 'data/pizza_steak_sushi'.\n",
            "Ada 3 direktori dan 0 gambar didalam 'data/pizza_steak_sushi/train'.\n",
            "Ada 0 direktori dan 72 gambar didalam 'data/pizza_steak_sushi/train/sushi'.\n",
            "Ada 0 direktori dan 78 gambar didalam 'data/pizza_steak_sushi/train/pizza'.\n",
            "Ada 0 direktori dan 75 gambar didalam 'data/pizza_steak_sushi/train/steak'.\n",
            "Ada 3 direktori dan 0 gambar didalam 'data/pizza_steak_sushi/test'.\n",
            "Ada 0 direktori dan 31 gambar didalam 'data/pizza_steak_sushi/test/sushi'.\n",
            "Ada 0 direktori dan 25 gambar didalam 'data/pizza_steak_sushi/test/pizza'.\n",
            "Ada 0 direktori dan 19 gambar didalam 'data/pizza_steak_sushi/test/steak'.\n"
          ]
        }
      ]
    },
    {
      "cell_type": "code",
      "source": [
        "# Setup alur latih dan tes\n",
        "\n",
        "train_dir = image_path / \"train\"\n",
        "test_dir = image_path / \"test\""
      ],
      "metadata": {
        "id": "Epj_uRYdMaxA"
      },
      "execution_count": 10,
      "outputs": []
    }
  ]
}