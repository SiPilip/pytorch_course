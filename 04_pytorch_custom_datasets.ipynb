{
  "cells": [
    {
      "cell_type": "markdown",
      "metadata": {
        "colab_type": "text",
        "id": "view-in-github"
      },
      "source": [
        "<a href=\"https://colab.research.google.com/github/SiPilip/pytorch_course/blob/main/04_pytorch_custom_datasets.ipynb\" target=\"_parent\"><img src=\"https://colab.research.google.com/assets/colab-badge.svg\" alt=\"Open In Colab\"/></a>\n"
      ]
    },
    {
      "cell_type": "markdown",
      "metadata": {
        "id": "yBq9xh1yHrg7"
      },
      "source": [
        "# 04. PyTorch Custom Dataset\n",
        "\n",
        "Kita sudah menggunakan beberapa dataset dengan pytorch before\n",
        "\n",
        "Tetapi bagaiman jika kita ingin menggunakan data sendiri\n",
        "\n",
        "Salah satu cara untuk melakukannya: Dataset kustom\n",
        "\n",
        "## Domain Libraries\n",
        "\n",
        "Bergantung pada apa yang kamu kerjakan, citra, teks, audio, kamu akan melihat tiap PyTorch domain libraries untuk data yang sudah ada berdasarkan fungsi dan kustom data loader\n"
      ]
    },
    {
      "cell_type": "markdown",
      "metadata": {
        "id": "Hzj8NmGxITdX"
      },
      "source": [
        "# 0. Import PyTorch dan setup agnostic device\n"
      ]
    },
    {
      "cell_type": "code",
      "execution_count": 1,
      "metadata": {
        "colab": {
          "base_uri": "https://localhost:8080/",
          "height": 36
        },
        "id": "Ap2jMHlIIXT8",
        "outputId": "06a5c2be-d4e1-4866-d4ce-294377061645"
      },
      "outputs": [
        {
          "data": {
            "text/plain": [
              "'2.6.0+cu118'"
            ]
          },
          "execution_count": 1,
          "metadata": {},
          "output_type": "execute_result"
        }
      ],
      "source": [
        "import torch\n",
        "from torch import nn\n",
        "\n",
        "torch.__version__"
      ]
    },
    {
      "cell_type": "code",
      "execution_count": 2,
      "metadata": {
        "id": "pPg7YNqWIZ39"
      },
      "outputs": [],
      "source": [
        "# Setup perangkat agnostik\n",
        "device = 'cuda' if torch.cuda.is_available() else 'cpu'"
      ]
    },
    {
      "cell_type": "code",
      "execution_count": 3,
      "metadata": {
        "colab": {
          "base_uri": "https://localhost:8080/",
          "height": 36
        },
        "id": "yA1-XXCYIgRq",
        "outputId": "43067422-b32e-4063-b0cf-d8d5620dd8de"
      },
      "outputs": [
        {
          "data": {
            "text/plain": [
              "'cuda'"
            ]
          },
          "execution_count": 3,
          "metadata": {},
          "output_type": "execute_result"
        }
      ],
      "source": [
        "device"
      ]
    },
    {
      "cell_type": "markdown",
      "metadata": {
        "id": "qdBjbYJvIhFa"
      },
      "source": [
        "## 1. Ambil Data\n",
        "\n",
        "Dataset kita adalah subset dari Food101 Dataset\n",
        "\n",
        "Food101 dimulai dari 101 kelas berbeda dari makanan (750 Training, 250 Testing)\n",
        "\n",
        "Dataset kita dimulai dari 3 kelas dan hanya 10% dari gambar (75 Training, 25 Testing)\n",
        "\n",
        "Ketika mencoba pembelajaran mesil, ini adalah hal penting untuk melakukan dari kecil lalu meningkatkannya ketika dibutuhkan.\n",
        "\n",
        "Intinya adalah seberapa cepat kita dapat bereksperiment\n"
      ]
    },
    {
      "cell_type": "code",
      "execution_count": 4,
      "metadata": {
        "colab": {
          "base_uri": "https://localhost:8080/"
        },
        "id": "TUk2wg9wJnwa",
        "outputId": "7b9355ea-cc39-4ea5-9a76-f01af8cb8b66"
      },
      "outputs": [
        {
          "name": "stdout",
          "output_type": "stream",
          "text": [
            "data\\pizza_steak_sushi direktori sudah ada...\n"
          ]
        }
      ],
      "source": [
        "import requests\n",
        "import zipfile\n",
        "from pathlib import Path\n",
        "\n",
        "# Buat jalur untuk folder data\n",
        "data_path = Path(\"data/\")\n",
        "image_path = data_path / \"pizza_steak_sushi\"\n",
        "\n",
        "# Jika folder gambar tidak ada, download dan siapkan\n",
        "if image_path.is_dir():\n",
        "  print(f\"{image_path} direktori sudah ada...\")\n",
        "else:\n",
        "  print(f\"{image_path} belum ada, membuat...\")\n",
        "  image_path.mkdir(parents=True, exist_ok=True)"
      ]
    },
    {
      "cell_type": "code",
      "execution_count": null,
      "metadata": {
        "colab": {
          "base_uri": "https://localhost:8080/"
        },
        "id": "Cs7IgdSiKFLW",
        "outputId": "1a3bd579-b271-4649-a3b0-703b653e6774"
      },
      "outputs": [],
      "source": [
        "# Unduh pizza, steak, dan sushi data\n",
        "with open(data_path / \"pizza_steak_sushi.zip\", \"wb\") as f:\n",
        "  request = requests.get(\"https://raw.githubusercontent.com/mrdbourke/pytorch-deep-learning/refs/heads/main/data/pizza_steak_sushi.zip\")\n",
        "  print(\"Downloading pizza, steak sushi data\")\n",
        "  f.write(request.content)\n",
        "\n",
        "# Unzip data\n",
        "with zipfile.ZipFile(data_path / \"pizza_steak_sushi.zip\", \"r\") as zip_ref:\n",
        "  print(\"Unzipping data\")\n",
        "  zip_ref.extractall(image_path)"
      ]
    },
    {
      "cell_type": "markdown",
      "metadata": {
        "id": "SaTOAdLsLEO0"
      },
      "source": [
        "## 2. Menjadi satu dengan data (preparasi data, dan eksplorasi data)\n"
      ]
    },
    {
      "cell_type": "code",
      "execution_count": 8,
      "metadata": {
        "id": "Johhp-MhL_-V"
      },
      "outputs": [],
      "source": [
        "import os\n",
        "def walk_through_dir(dir_path):\n",
        "  for dirpath, dirnames, filenames in os.walk(dir_path):\n",
        "    print(f\"Ada {len(dirnames)} direktori dan {len(filenames)} gambar didalam '{dirpath}'.\")"
      ]
    },
    {
      "cell_type": "code",
      "execution_count": null,
      "metadata": {
        "colab": {
          "base_uri": "https://localhost:8080/"
        },
        "id": "GwayJWNMMZI7",
        "outputId": "67bdeb94-748d-4e62-e6ea-bd89554eb3e9"
      },
      "outputs": [],
      "source": [
        "walk_through_dir(image_path)"
      ]
    },
    {
      "cell_type": "code",
      "execution_count": null,
      "metadata": {
        "colab": {
          "base_uri": "https://localhost:8080/"
        },
        "id": "Epj_uRYdMaxA",
        "outputId": "21bb7abb-da47-4b55-933b-0a410a88c34d"
      },
      "outputs": [],
      "source": [
        "# Setup alur latih dan tes\n",
        "\n",
        "train_dir = image_path / \"train\"\n",
        "test_dir = image_path / \"test\"\n",
        "\n",
        "train_dir, test_dir"
      ]
    },
    {
      "cell_type": "markdown",
      "metadata": {
        "id": "o_6o4jPvNPGa"
      },
      "source": [
        "## 2.1 Visualisasikan Gambar\n",
        "\n",
        "Yang akan kita buat\n",
        "\n",
        "1. Ambil semua path gambar\n",
        "2. Ambil gambar acak dengan random.choice()\n",
        "3. Ambil kelas gamabr dengan `pathlib.Path.parent.stem`\n",
        "4. Sejak kta bekerja dengan gambar, kita akan membuka gambar dengan PIL (pillow)\n",
        "5. Kita akan menunjukkan gambar dan memberikan metadatanya\n"
      ]
    },
    {
      "cell_type": "code",
      "execution_count": null,
      "metadata": {
        "colab": {
          "base_uri": "https://localhost:8080/"
        },
        "id": "R0Jj106LNYPA",
        "outputId": "ba4ea37f-5856-414e-943f-cdf14b1b7608"
      },
      "outputs": [],
      "source": [
        "import random\n",
        "\n",
        "# Set seed\n",
        "# random.seed(42)\n",
        "\n",
        "# 1. Ambil jalur gambar\n",
        "image_path_list = list(image_path.glob(\"*/*/*.jpg\"))\n",
        "\n",
        "# 2. Pilih jalur gambar secara acak\n",
        "random_image_path = random.choice(image_path_list)\n",
        "print(random_image_path)\n",
        "\n",
        "# 3. Ambil kelas dari pathname (kelas gambar diambil dari direktori dimana gambarnya disimpan)\n",
        "image_class = random_image_path.parent.stem\n",
        "print(image_class)"
      ]
    },
    {
      "cell_type": "code",
      "execution_count": null,
      "metadata": {
        "colab": {
          "base_uri": "https://localhost:8080/",
          "height": 598
        },
        "id": "NzBwqRSKOQ5X",
        "outputId": "aaac7a2a-38d8-49aa-ca99-782d111397ed"
      },
      "outputs": [],
      "source": [
        "from PIL import Image\n",
        "\n",
        "# 4. Buka gambar\n",
        "img = Image.open(random_image_path)\n",
        "\n",
        "# 5. Berikan metadata\n",
        "print(f\"Random image path: {random_image_path}\")\n",
        "print(f\"Image class: {image_class}\")\n",
        "print(f\"Image height: {img.height}\")\n",
        "print(f\"Image width: {img.width}\")\n",
        "img"
      ]
    },
    {
      "cell_type": "code",
      "execution_count": null,
      "metadata": {
        "colab": {
          "base_uri": "https://localhost:8080/",
          "height": 615
        },
        "id": "Qm8Wl1oOPJ9t",
        "outputId": "5f28ff83-f477-4d3d-b9e0-ba024d7c4b27"
      },
      "outputs": [],
      "source": [
        "import numpy as np\n",
        "import matplotlib.pyplot as plt\n",
        "\n",
        "# Ubah image ke array\n",
        "img_as_array = np.asarray(img)\n",
        "\n",
        "# Plot gambar\n",
        "plt.figure(figsize=(10,7))\n",
        "plt.imshow(img_as_array)\n",
        "plt.title(f\"Image class: {image_class} | Image shape: {img_as_array.shape}\")\n",
        "plt.axis(False)"
      ]
    },
    {
      "cell_type": "markdown",
      "metadata": {
        "id": "dob3wuRtPshm"
      },
      "source": [
        "## 3. Mengubah data\n",
        "\n",
        "Sebelum kita dapat menggunakan gambar kita dengan PyTorch:\n",
        "\n",
        "1. Ubah target data menjadi bentuk tensor (numerical representation dari gambar kita)\n",
        "2. Ubah itu menjadi `torch.utils.data.Dataset` dan kemudian ubah menjadi `torch.utils.data.DataLoader` (untuk dibuatkan batch nya)\n"
      ]
    },
    {
      "cell_type": "code",
      "execution_count": 14,
      "metadata": {
        "id": "OZvFDGL5QvUO"
      },
      "outputs": [],
      "source": [
        "import torch\n",
        "from torch.utils.data import DataLoader\n",
        "from torchvision import datasets, transforms"
      ]
    },
    {
      "cell_type": "markdown",
      "metadata": {
        "id": "uMOLclsPQ0jy"
      },
      "source": [
        "### 3.1 Transforming data dengan `torchvision.transforms`\n",
        "\n",
        "Transform membantu gambar anda untuk bisa digunakan dengan model\n"
      ]
    },
    {
      "cell_type": "code",
      "execution_count": 15,
      "metadata": {
        "id": "YHVvXNnOQ7-T"
      },
      "outputs": [],
      "source": [
        "# Buatkan transform untuk gambar\n",
        "data_transform = transforms.Compose([\n",
        "    # Resize gambar kita ke 64*64\n",
        "    transforms.Resize(size=(64,64)),\n",
        "\n",
        "    # Balikkan gambar secara acak dengan horizontal\n",
        "    transforms.RandomHorizontalFlip(p=0.5),\n",
        "\n",
        "    # Ubah gambar menjadi torch.Tensor\n",
        "    transforms.ToTensor()\n",
        "])"
      ]
    },
    {
      "cell_type": "code",
      "execution_count": null,
      "metadata": {
        "colab": {
          "base_uri": "https://localhost:8080/"
        },
        "id": "Qja_XVttRhV8",
        "outputId": "25ee0619-11b4-4f87-b2d2-9e4e07bc28fb"
      },
      "outputs": [],
      "source": [
        "data_transform(img)[:2]"
      ]
    },
    {
      "cell_type": "code",
      "execution_count": null,
      "metadata": {
        "colab": {
          "base_uri": "https://localhost:8080/",
          "height": 1000
        },
        "id": "8Oy5NlShRjjn",
        "outputId": "755f9363-a43d-412f-d3d9-7da57acf7a6e"
      },
      "outputs": [],
      "source": [
        "def plot_transformed_images(image_paths, transform, n=3, seed=42):\n",
        "  if seed:\n",
        "    random.seed(seed)\n",
        "\n",
        "  random_image_paths = random.sample(image_paths, k=n)\n",
        "  for image_path in random_image_paths:\n",
        "    with Image.open(image_path) as f:\n",
        "      fig, ax = plt.subplots(nrows=1, ncols=2)\n",
        "      ax[0].imshow(f)\n",
        "      ax[0].set_title(f\"Original\\nSize: {f.size}\")\n",
        "      ax[0].axis(False)\n",
        "\n",
        "      # Transform and plot target gambar\n",
        "      transformed_image = transform(f).permute(1, 2, 0) # Kita akan ubah bentuk untuk matplotlib\n",
        "      ax[1].imshow(transformed_image)\n",
        "      ax[1].set_title(f\"Transformed\\nShape: {transformed_image.shape}\")\n",
        "      ax[1].axis(\"off\")\n",
        "\n",
        "      fig.suptitle(f\"Class: {image_path.parent.stem}\", fontsize=16)\n",
        "\n",
        "plot_transformed_images(image_paths=image_path_list,\n",
        "                        transform=data_transform,\n",
        "                        n=3,\n",
        "                        seed=None)\n"
      ]
    },
    {
      "cell_type": "markdown",
      "metadata": {
        "id": "QSlaSqywYqbV"
      },
      "source": [
        "## 4. Opsi 1: Muat data gambar dengan `ImageFolder`\n",
        "\n",
        "Kita bisa muat klasifikasi gambar dengan menggunakan `torchvision.datasets.ImageFolder`\n"
      ]
    },
    {
      "cell_type": "code",
      "execution_count": null,
      "metadata": {
        "colab": {
          "base_uri": "https://localhost:8080/"
        },
        "id": "Qh9toesbaGK2",
        "outputId": "e2b5824a-2b99-41a5-a861-d5f863766d35"
      },
      "outputs": [],
      "source": [
        "# Gunakan ImageFolder untuk membuat dataset\n",
        "from torchvision import datasets\n",
        "train_data = datasets.ImageFolder(root=train_dir,\n",
        "                                  transform=data_transform,\n",
        "                                  target_transform=None)\n",
        "\n",
        "test_data = datasets.ImageFolder(root=test_dir,\n",
        "                                 transform=data_transform)\n",
        "\n",
        "train_data, test_data"
      ]
    },
    {
      "cell_type": "code",
      "execution_count": null,
      "metadata": {
        "colab": {
          "base_uri": "https://localhost:8080/"
        },
        "id": "KBeFL8wPapEe",
        "outputId": "8539b8ba-34c0-41b9-d965-8ccbece8d939"
      },
      "outputs": [],
      "source": [
        "# Ambil nama kelas dengan list\n",
        "class_names = train_data.classes\n",
        "class_names"
      ]
    },
    {
      "cell_type": "code",
      "execution_count": null,
      "metadata": {
        "colab": {
          "base_uri": "https://localhost:8080/"
        },
        "id": "2x5zIF2Ya-od",
        "outputId": "37645810-0c8d-46e6-8b03-7c0ff38d82ab"
      },
      "outputs": [],
      "source": [
        "# Ambil nama kelas sebagai dict\n",
        "class_dict = train_data.class_to_idx\n",
        "class_dict"
      ]
    },
    {
      "cell_type": "code",
      "execution_count": null,
      "metadata": {
        "colab": {
          "base_uri": "https://localhost:8080/"
        },
        "id": "ea3qqK7IbC9B",
        "outputId": "a311236f-7099-48ae-e9a6-f620f9fe62ee"
      },
      "outputs": [],
      "source": [
        "# Cek panjang dari dataset\n",
        "len(train_data), len(test_data)"
      ]
    },
    {
      "cell_type": "code",
      "execution_count": null,
      "metadata": {
        "colab": {
          "base_uri": "https://localhost:8080/"
        },
        "id": "iA0Wwus3bJuS",
        "outputId": "e3533c75-8905-4d2d-ff98-f64f82b176a9"
      },
      "outputs": [],
      "source": [
        "train_data.samples[:5], train_data.targets[:5]"
      ]
    },
    {
      "cell_type": "code",
      "execution_count": null,
      "metadata": {
        "colab": {
          "base_uri": "https://localhost:8080/"
        },
        "id": "Ha-tIi0mbLjb",
        "outputId": "236610b4-a20d-4764-d7b5-f5893aaa63ab"
      },
      "outputs": [],
      "source": [
        "# Index didalam train_data dataset untuk mendapatkan satu gambar\n",
        "img, label = train_data[0][0], train_data[0][1]\n",
        "img, class_names[label]\n",
        "print(f\"Gambar tenspr:\\n {img[:2]}\")\n",
        "print(f\"Bentuk gambar:\\n {img.shape}\")\n",
        "print(f\"Gambar datatype: \\n {img.dtype}\")\n",
        "print(f\"Label gambar: \\n {label}\")\n",
        "print(f\"Label gambar: \\n {type(label)}\")"
      ]
    },
    {
      "cell_type": "code",
      "execution_count": null,
      "metadata": {
        "colab": {
          "base_uri": "https://localhost:8080/",
          "height": 504
        },
        "id": "32skhee-bwY7",
        "outputId": "cc017293-a704-48fd-aa3e-399f3ef2e626"
      },
      "outputs": [],
      "source": [
        "# Mengatur ulang dimensi -> [H, W, C]\n",
        "img_permute = img.permute(1,2,0)\n",
        "\n",
        "# Lihatkan shape berbeda\n",
        "print(f\"Bentuk asli: {img.shape} -> [C, H, W]\")\n",
        "print(f\"Permutasi Gambar: {img_permute.shape} -> [H, W, C]\")\n",
        "\n",
        "# Plot gambar\n",
        "plt.figure(figsize=(5,5))\n",
        "plt.imshow(img_permute)\n",
        "plt.axis(\"off\")\n",
        "plt.title(class_names[label], fontsize=20)"
      ]
    },
    {
      "cell_type": "markdown",
      "metadata": {
        "id": "gbW3aBFZclAd"
      },
      "source": [
        "## 4.1 Ubah gambar termuat menjadi `DataLoader`\n",
        "\n",
        "Sebuah `DataLoader` akan membantu kita mengubah dataset menjadi iterable dan kita dapat mengkostumisasi `batch_size` jadi model kita dapat melihat `batch_size` gambar dalam satu waktu\n"
      ]
    },
    {
      "cell_type": "code",
      "execution_count": null,
      "metadata": {
        "colab": {
          "base_uri": "https://localhost:8080/"
        },
        "id": "4oP_1OFedoUl",
        "outputId": "da4789a4-0d67-4017-8767-85e11ed3727b"
      },
      "outputs": [],
      "source": [
        "import os\n",
        "os.cpu_count()"
      ]
    },
    {
      "cell_type": "code",
      "execution_count": null,
      "metadata": {
        "colab": {
          "base_uri": "https://localhost:8080/"
        },
        "id": "NKQJ-3Vpc8sl",
        "outputId": "a29cdf29-0637-458f-f8fc-0d3b081c9ec8"
      },
      "outputs": [],
      "source": [
        "# Ubah data latih dan data test ke DataLoader\n",
        "from torch.utils.data import DataLoader\n",
        "\n",
        "BATCH_SIZE = 1\n",
        "\n",
        "train_dataloader = DataLoader(dataset=train_data,\n",
        "                              batch_size=BATCH_SIZE,\n",
        "                              num_workers=1,\n",
        "                              shuffle=True)\n",
        "test_dataloader = DataLoader(dataset=test_data,\n",
        "                             batch_size=BATCH_SIZE,\n",
        "                             num_workers=1,\n",
        "                             shuffle=False)\n",
        "\n",
        "train_dataloader, test_dataloader"
      ]
    },
    {
      "cell_type": "code",
      "execution_count": null,
      "metadata": {
        "colab": {
          "base_uri": "https://localhost:8080/"
        },
        "id": "1gIBt_3reB4B",
        "outputId": "e9b63c24-a9e0-49f1-e690-045f9a2a8914"
      },
      "outputs": [],
      "source": [
        "img, label = next(iter(train_dataloader))\n",
        "\n",
        "print(f\"Bentuk gambar: {img.shape} -> [Batch size, C, H, W]\")\n",
        "print(f\"Label shape {label.shape}\")"
      ]
    },
    {
      "cell_type": "code",
      "execution_count": null,
      "metadata": {
        "colab": {
          "base_uri": "https://localhost:8080/"
        },
        "id": "wjRUN5LXezg1",
        "outputId": "1d0107f0-79b4-46af-ce55-d62ec262c329"
      },
      "outputs": [],
      "source": [
        "!python --version"
      ]
    },
    {
      "cell_type": "markdown",
      "metadata": {
        "id": "01bcO9LWh6VO"
      },
      "source": [
        "## 5. OPsi 2: Muat Gambar dengan Kustom `Datase`\n",
        "\n",
        "1. Bisa mengambil gambar dari file\n",
        "2. Bisa mengambil kelas dari Dataset\n",
        "3. Bisa mengambil kelas sebagai `dictionary` dari dataset\n",
        "\n",
        "Pros:\n",
        "\n",
        "- Bisa membuat dataset hampir dari papaun\n",
        "- Tidak dibatasi oleh PyTorch\n",
        "\n",
        "Cons:\n",
        "\n",
        "- Walaupun kita dapat membuat Dataset dari apapun, itu bukan berarti akan dapat digunakan\n",
        "- Mengguanakan Dataset kustom seringkali dapat memberikan masalah performa\n"
      ]
    },
    {
      "cell_type": "code",
      "execution_count": 29,
      "metadata": {
        "id": "lnx5aE5ZUEHD"
      },
      "outputs": [],
      "source": [
        "import os\n",
        "import pathlib\n",
        "import torch\n",
        "\n",
        "from PIL import Image\n",
        "from torch.utils.data import Dataset\n",
        "from torchvision import transforms\n",
        "from typing import Tuple, Dict, List"
      ]
    },
    {
      "cell_type": "code",
      "execution_count": null,
      "metadata": {
        "colab": {
          "base_uri": "https://localhost:8080/"
        },
        "id": "wW_8DQHRUVS5",
        "outputId": "47eefb13-55c5-49f7-d4de-0118e7a493a1"
      },
      "outputs": [],
      "source": [
        "# Instans dari torchvision.dataseats.ImageFolder()\n",
        "train_data.classes, train_data.class_to_idx"
      ]
    },
    {
      "cell_type": "markdown",
      "metadata": {
        "id": "toYni2jXUgnA"
      },
      "source": [
        "### 5.1 Buat helper function untuk mendapatkan nama kelas\n",
        "\n",
        "Kita akan mendapatkan fungsi untuk:\n",
        "\n",
        "1. Ambil nama kelas menggunakan `os.scandir()` untuk melintasi target direktori\n",
        "2. Mengeluarkan output kesalahan jika nama kelas tidak ditemukan\n",
        "3. Ubah nama kelas menjadi dict dan list lalu return mereka\n"
      ]
    },
    {
      "cell_type": "code",
      "execution_count": null,
      "metadata": {
        "colab": {
          "base_uri": "https://localhost:8080/"
        },
        "id": "s8f2WmOrVnok",
        "outputId": "db210234-8842-4be4-c2d3-c1cb35b1ced7"
      },
      "outputs": [],
      "source": [
        "# Setup path untuk target directory\n",
        "target_directory = train_dir\n",
        "print(f\"Target directory: {target_directory}\")\n",
        "\n",
        "# Ambil nama kelas dari target directory\n",
        "class_name_found = sorted([entry.name for entry in list(os.scandir(target_directory))])\n",
        "class_name_found"
      ]
    },
    {
      "cell_type": "code",
      "execution_count": 32,
      "metadata": {
        "id": "D2uIHQMrV32g"
      },
      "outputs": [],
      "source": [
        "def find_classes(directory: str) -> Tuple[List[str], Dict[str, int]]:\n",
        "  \"\"\"Cari folder kelas dalam target direktori.\"\"\"\n",
        "\n",
        "  # 1. Ambil nama kelas dari scanning target direktori\n",
        "  classes = sorted([entry.name for entry in os.scandir(directory) if entry.is_dir()])\n",
        "\n",
        "  # 2. Berikan error jika nama kelas tidak ditemukan\n",
        "  if not classes:\n",
        "    raise FileNotFoundError(f\"Tidak dapat menemukan kelas di {directory}\")\n",
        "\n",
        "  # 3. Buat dictoanary dari index label\n",
        "  class_to_idx = {class_name: i for i, class_name in enumerate(classes)}\n",
        "\n",
        "  return classes, class_to_idx"
      ]
    },
    {
      "cell_type": "code",
      "execution_count": null,
      "metadata": {
        "colab": {
          "base_uri": "https://localhost:8080/"
        },
        "id": "Z8t6oEZ-WZtU",
        "outputId": "e2bae597-1f43-4925-f76c-3aecc3e1d056"
      },
      "outputs": [],
      "source": [
        "find_classes(target_directory)"
      ]
    },
    {
      "cell_type": "markdown",
      "metadata": {
        "id": "8y2W-CtGWbY5"
      },
      "source": [
        "### 5.2 Buat `Dataset` custom untuk replikasi `ImageFolder`\n",
        "\n",
        "Untuk membuat custom dataset kita sendiri, kita harus:\n",
        "\n",
        "1. Membuat subclass dari `torch.utils.data.Dataset`\n",
        "2. Inisiasi subclass kita dengan target direktori, lalu kita akan mentransform datanya\n",
        "3. Buat atribut terpisah\n",
        "\n",
        "- paths - path dari gambar kita\n",
        "- transform - transform yang akan kita gunakan\n",
        "- classes - list dari target kelas kita\n",
        "- class_to_idx - dict dari target kelas yang di map ke label integer\n",
        "\n",
        "4. Buat function untuk `load.images()`\n",
        "5. Menulis ulang `__len__()` untuk mereturn panjang dari dataset kita\n",
        "6. Menulis ulang `__getitem()__` untuk mereturn sample\n"
      ]
    },
    {
      "cell_type": "code",
      "execution_count": 34,
      "metadata": {
        "id": "yG72anBzYM0M"
      },
      "outputs": [],
      "source": [
        "# Buat kelas custom dataset\n",
        "from torch.utils.data import Dataset\n",
        "\n",
        "# 1. Subclass torch.tuils.data.Dataset\n",
        "class ImageFolderCustom(Dataset):\n",
        "  # 2. Inisialisasi dataset kustom\n",
        "  def __init__(self,\n",
        "               targ_dir: str,\n",
        "               transform=None):\n",
        "    # Buat atribut kelas\n",
        "    self.paths = list(pathlib.Path(targ_dir).glob(\"*/*.jpg\"))\n",
        "\n",
        "    # Setup transforms\n",
        "    self.transform = transform\n",
        "\n",
        "    # Buat classes dan class_to_idx\n",
        "    self.classes, self.class_to_idx = find_classes(targ_dir)\n",
        "\n",
        "  # 4. Buat function untuk memuat gambar\n",
        "  def load_image(self, index: int) -> Image.Image:\n",
        "    image_path = self.paths[index]\n",
        "    return Image.open(image_path)\n",
        "\n",
        "  # 5. Overwrite __len__()\n",
        "  def __len__(self) -> int:\n",
        "    return len(self.paths)\n",
        "\n",
        "  # 6. Overwrite __getitem__() untuk mereturn sample\n",
        "  def __getitem__(self, index: int) -> Tuple[torch.Tensor, int]:\n",
        "    img = self.load_image(index)\n",
        "    class_name = self.paths[index].parent.name # Mengharapkan path dalam format: /data_folder/class_name/name.jpg\n",
        "    class_idx = self.class_to_idx[class_name]\n",
        "\n",
        "    # Transforms jika diperlukan\n",
        "    if self.transform:\n",
        "      return self.transform(img), class_idx\n",
        "    else:\n",
        "      return img, class_idx"
      ]
    },
    {
      "cell_type": "code",
      "execution_count": 35,
      "metadata": {
        "id": "7Z4K_pUXamwE"
      },
      "outputs": [],
      "source": [
        "# Buat transform\n",
        "from torchvision import transforms\n",
        "\n",
        "train_transforms = transforms.Compose([\n",
        "    transforms.Resize(size=(64,64)),\n",
        "    transforms.RandomHorizontalFlip(p=0.5),\n",
        "    transforms.ToTensor()\n",
        "])\n",
        "\n",
        "test_transforms = transforms.Compose([\n",
        "    transforms.Resize(size=(64,64)),\n",
        "    transforms.ToTensor()\n",
        "])"
      ]
    },
    {
      "cell_type": "code",
      "execution_count": 36,
      "metadata": {
        "id": "NWoe2le7cAJ-"
      },
      "outputs": [],
      "source": [
        "# Test out ImageFolderCustom\n",
        "train_data_custom = ImageFolderCustom(targ_dir=train_dir,\n",
        "                                      transform=train_transforms)\n",
        "test_data_custom = ImageFolderCustom(targ_dir=test_dir,\n",
        "                                     transform=test_transforms)"
      ]
    },
    {
      "cell_type": "code",
      "execution_count": null,
      "metadata": {
        "colab": {
          "base_uri": "https://localhost:8080/"
        },
        "id": "pASFTUERcNET",
        "outputId": "337ceaa9-6579-4c1c-911c-8c607936d631"
      },
      "outputs": [],
      "source": [
        "train_data_custom, test_data_custom"
      ]
    },
    {
      "cell_type": "code",
      "execution_count": null,
      "metadata": {
        "colab": {
          "base_uri": "https://localhost:8080/"
        },
        "id": "kD3G1FJeddwh",
        "outputId": "f01b7c62-972b-4344-bdb9-05c49e54b66e"
      },
      "outputs": [],
      "source": [
        "len(train_data), len(train_data_custom)"
      ]
    },
    {
      "cell_type": "code",
      "execution_count": null,
      "metadata": {
        "colab": {
          "base_uri": "https://localhost:8080/"
        },
        "id": "nM1oX1NxdinM",
        "outputId": "8a47a201-f5cd-4cba-b683-b68f8ef4129a"
      },
      "outputs": [],
      "source": [
        "train_data_custom.classes"
      ]
    },
    {
      "cell_type": "code",
      "execution_count": null,
      "metadata": {
        "colab": {
          "base_uri": "https://localhost:8080/"
        },
        "id": "lVHuyTnpdl8o",
        "outputId": "99f2d068-2451-4b68-b5f1-66fd5dd80549"
      },
      "outputs": [],
      "source": [
        "train_data_custom.class_to_idx"
      ]
    },
    {
      "cell_type": "code",
      "execution_count": null,
      "metadata": {
        "colab": {
          "base_uri": "https://localhost:8080/"
        },
        "id": "irAtag31dsYW",
        "outputId": "afc5751e-248c-445d-91bb-ee22240aa5e8"
      },
      "outputs": [],
      "source": [
        "# Periksa kesamaan antara ImageFolder Dataset dan ImageFolderCustomDataset\n",
        "print(train_data_custom.classes == train_data.classes)\n",
        "print(test_data_custom.classes == test_data.classes)"
      ]
    },
    {
      "cell_type": "markdown",
      "metadata": {
        "id": "MHV2LjBdd5Dx"
      },
      "source": [
        "# 5.3 Buat fungsi untuk menampilkan gambar acak\n",
        "\n",
        "1. Ambil `Dataset` dan beberapa parameter lain, seperti nama kelas, dan berapa banyak gambar yang akan ditampilkan\n",
        "2. Untuk mencegah gambar ditampilkan banyak, kita batasi 10 gambar\n",
        "3. Buat random seed untuk reproducibility\n",
        "4. Ambil list dari sample acak untuk target dataset\n",
        "5. Setup `matplotlib.plot`\n",
        "6. Buat perulangan dari gambar acak lalu tampilkan dengan matplotlib\n",
        "7. Pastikan dimensi nya [H, W, C]\n"
      ]
    },
    {
      "cell_type": "code",
      "execution_count": 42,
      "metadata": {
        "id": "MMcBmL9fecus"
      },
      "outputs": [],
      "source": [
        "# 1. Buat fungsi untuk mengambil dataset\n",
        "def display_random_images(dataset: torch.utils.data.Dataset,\n",
        "                          classes: List[str] = None,\n",
        "                          n: int = 10,\n",
        "                          display_shape: bool = True,\n",
        "                          seed: int = None):\n",
        "  # 2. Sesuaikan tampilan jika n nya terlalu ringgi\n",
        "  if n > 10:\n",
        "    n = 10\n",
        "    display_shape = False\n",
        "    print(f\" Untuk kepentingan gambar, n tidak boleh lebih besar dari 10\")\n",
        "\n",
        "  # 3. Atur seed\n",
        "  if seed:\n",
        "    random.seed(seed)\n",
        "\n",
        "  # 4. Ambil index sample random\n",
        "  random_samples_idx = random.sample(range(len(dataset)), k=n)\n",
        "\n",
        "  # 5. Buat plot\n",
        "  plt.figure(figsize=(16,8))\n",
        "\n",
        "  # 6. Lakukan perulangan index acak dan plot dengan matplotlib\n",
        "  for i, targ_sample in enumerate(random_samples_idx):\n",
        "    targ_image, targ_label = dataset[targ_sample][0], dataset[targ_sample][1]\n",
        "\n",
        "    # 7. Sesuaikan dimensi tensor untuk plotting\n",
        "    targ_image_adjust = targ_image.permute(1,2,0) # [C, H, W] -> [H, W, C]\n",
        "\n",
        "    # Plot smaple yang sudah di atur dimensinya\n",
        "    plt.subplot(1, n, i+1)\n",
        "    plt.imshow(targ_image_adjust)\n",
        "    plt.axis(\"off\")\n",
        "\n",
        "    # Tambahkan label jika diperlukan\n",
        "    if classes:\n",
        "      title = f\"Class: {classes[targ_label]}\"\n",
        "      if display_shape:\n",
        "        title = title + f\"\\nShape: {targ_image_adjust.shape}\"\n",
        "      plt.title(title)\n"
      ]
    },
    {
      "cell_type": "code",
      "execution_count": null,
      "metadata": {
        "colab": {
          "base_uri": "https://localhost:8080/",
          "height": 159
        },
        "id": "xuBCY_q9fKKO",
        "outputId": "d34dadf6-6dac-448d-bfab-7b1bf9e8db84"
      },
      "outputs": [],
      "source": [
        "# Tampilkan gambar acak dari ImageFolder\n",
        "display_random_images(train_data,\n",
        "                      n=5,\n",
        "                      classes=class_names,\n",
        "                      seed=None)"
      ]
    },
    {
      "cell_type": "code",
      "execution_count": null,
      "metadata": {
        "colab": {
          "base_uri": "https://localhost:8080/",
          "height": 112
        },
        "id": "3sW3OtJ2fNhy",
        "outputId": "ec766f91-0c3b-4a70-9cb3-9af4471b6470"
      },
      "outputs": [],
      "source": [
        "# Tampilkan gambar acak dari ImageFoldeCustom dataset\n",
        "display_random_images(train_data_custom,\n",
        "                      n=20,\n",
        "                      classes=class_names,\n",
        "                      seed=42)\n"
      ]
    },
    {
      "cell_type": "markdown",
      "metadata": {
        "id": "pngwkdgpgxqj"
      },
      "source": [
        "### 5.4 Ubah custom muat gambar menjadi DataLoader's\n"
      ]
    },
    {
      "cell_type": "code",
      "execution_count": 45,
      "metadata": {
        "id": "i4unaISHjDVL"
      },
      "outputs": [],
      "source": [
        "from torch.utils.data import DataLoader\n",
        "\n",
        "BATCH_SIZE = 32\n",
        "NUM_WORKERS = 0\n",
        "\n",
        "train_dataloader_custom = DataLoader(dataset=train_data_custom,\n",
        "                                     batch_size=BATCH_SIZE,\n",
        "                                     num_workers = NUM_WORKERS,\n",
        "                                     shuffle=True)\n",
        "test_dataloader_custom = DataLoader(dataset=test_data_custom,\n",
        "                                    batch_size=BATCH_SIZE,\n",
        "                                    num_workers=NUM_WORKERS,\n",
        "                                    shuffle=False)"
      ]
    },
    {
      "cell_type": "code",
      "execution_count": null,
      "metadata": {
        "colab": {
          "base_uri": "https://localhost:8080/"
        },
        "id": "NaNxdi3mjSW9",
        "outputId": "35de095e-db3c-4327-d564-f43bb2bc5f73"
      },
      "outputs": [],
      "source": [
        "train_dataloader_custom, test_dataloader_custom"
      ]
    },
    {
      "cell_type": "code",
      "execution_count": null,
      "metadata": {
        "colab": {
          "base_uri": "https://localhost:8080/"
        },
        "id": "4SOaRkJAjUPy",
        "outputId": "9d13383a-1a1c-4af4-b893-49d1397eb200"
      },
      "outputs": [],
      "source": [
        "img_custom, label_custom = next(iter(train_dataloader_custom))\n",
        "\n",
        "img_custom.shape, label_custom.shape"
      ]
    },
    {
      "cell_type": "markdown",
      "metadata": {
        "id": "wUm6EwZxjg_J"
      },
      "source": [
        "## 6. Bentuk lain dari transforms (Augmentasi Data)\n"
      ]
    },
    {
      "cell_type": "markdown",
      "metadata": {
        "id": "h0DPU7KikWc1"
      },
      "source": [
        "Data augmentasi adalah proses artifisial untuk menamahkan keunikan dari data latih\n",
        "\n",
        "Untuk kasus ini. berarti memberikan ragam bentuk lain dari gambar kita\n",
        "\n",
        "Mari melihat, satu jenis augmentasi data yang digunakan untuk melatih PyTorch vision model\n"
      ]
    },
    {
      "cell_type": "code",
      "execution_count": 48,
      "metadata": {
        "id": "aoRNNAnMkiQQ"
      },
      "outputs": [],
      "source": [
        "# Mari lihat tirvialaugment\n",
        "from torchvision import transforms\n",
        "train_transform = transforms.Compose([\n",
        "    transforms.Resize(size=(224,224)),\n",
        "    transforms.TrivialAugmentWide(num_magnitude_bins=31), # -> 0-31 seberapa intens ini dilakukan\n",
        "    # transforms.RandomHorizontalFlip(p=0.5),\n",
        "    transforms.ToTensor(),\n",
        "])\n",
        "\n",
        "test_transform = transforms.Compose([\n",
        "    transforms.Resize(size=(224,224)),\n",
        "    transforms.ToTensor(),\n",
        "])"
      ]
    },
    {
      "cell_type": "code",
      "execution_count": 49,
      "metadata": {
        "id": "nIjrg5p0mBXg"
      },
      "outputs": [],
      "source": [
        "# Ambil semua image paths\n",
        "image_path_list = list(image_path.glob(\"*/*/*.jpg\"))"
      ]
    },
    {
      "cell_type": "code",
      "execution_count": null,
      "metadata": {
        "colab": {
          "base_uri": "https://localhost:8080/",
          "height": 1000
        },
        "id": "RmmEcfoPmLje",
        "outputId": "0025276f-b0da-4a51-ee82-202a816cb294"
      },
      "outputs": [],
      "source": [
        "plot_transformed_images(\n",
        "    image_paths=image_path_list,\n",
        "    transform=train_transform,\n",
        "    n=3,\n",
        "    seed=None\n",
        ")"
      ]
    },
    {
      "cell_type": "markdown",
      "metadata": {
        "id": "3V44YwLdmRzR"
      },
      "source": [
        "## 7. Model 0: TinyVGG tanpa data augmentasi\n",
        "\n",
        "Mari mereplikasi TinyVGG arsitektur dari CNN Explainer\n"
      ]
    },
    {
      "cell_type": "markdown",
      "metadata": {
        "id": "tYN-S-7ynFxz"
      },
      "source": [
        "### 7.1 Buat transforms dan muat data untuk Model 0\n"
      ]
    },
    {
      "cell_type": "code",
      "execution_count": 51,
      "metadata": {
        "id": "bh2DuxKqnIgW"
      },
      "outputs": [],
      "source": [
        "# Buat simple transform\n",
        "simple_transform = transforms.Compose([\n",
        "    transforms.Resize(size=(64,64)),\n",
        "    transforms.ToTensor()\n",
        "    ])"
      ]
    },
    {
      "cell_type": "code",
      "execution_count": 52,
      "metadata": {
        "id": "4vFi5cl1nduS"
      },
      "outputs": [],
      "source": [
        "# 1. Load dan transformasi data\n",
        "from torchvision import datasets\n",
        "train_data_simple = datasets.ImageFolder(root=train_dir,\n",
        "                                         transform=simple_transform)\n",
        "test_data_simple = datasets.ImageFolder(root=test_dir,\n",
        "                                         transform=simple_transform)\n",
        "\n",
        "# 2. Ubah dataset menjadi DataLoaders\n",
        "import os\n",
        "from torch.utils.data import DataLoader\n",
        "\n",
        "# Setup batch\n",
        "BATCH_SIZE = 32\n",
        "NUM_WORKERS = 0\n",
        "\n",
        "# Create DataLoader's\n",
        "train_dataloader_simple = DataLoader(dataset=train_data_simple,\n",
        "                                     batch_size=BATCH_SIZE,\n",
        "                                     shuffle=True,\n",
        "                                     num_workers=NUM_WORKERS,\n",
        "                                     )\n",
        "test_dataloader_simple = DataLoader(dataset=test_data_simple,\n",
        "                                     batch_size=BATCH_SIZE,\n",
        "                                     shuffle=False,\n",
        "                                     num_workers=NUM_WORKERS,\n",
        "                                     )"
      ]
    },
    {
      "cell_type": "markdown",
      "metadata": {
        "id": "XtvDl0x-oXxl"
      },
      "source": [
        "### 7.2 Buat TinyVGG Class\n"
      ]
    },
    {
      "cell_type": "code",
      "execution_count": 53,
      "metadata": {
        "id": "T5OvWUUbJkO0"
      },
      "outputs": [],
      "source": [
        "class TinyVGG(nn.Module):\n",
        "  def __init__(self,\n",
        "               input_shape: int,\n",
        "               hidden_units: int,\n",
        "               output_shape: int) -> None:\n",
        "    super().__init__()\n",
        "    self.conv_block_1 = nn.Sequential(\n",
        "        nn.Conv2d(in_channels=input_shape,\n",
        "                  out_channels=hidden_units,\n",
        "                  kernel_size=3,\n",
        "                  stride=1,\n",
        "                  padding=0),\n",
        "        nn.ReLU(),\n",
        "        nn.Conv2d(in_channels=hidden_units,\n",
        "                  out_channels=hidden_units,\n",
        "                  kernel_size=3,\n",
        "                  stride=1,\n",
        "                  padding=0),\n",
        "        nn.ReLU(),\n",
        "        nn.MaxPool2d(kernel_size=2,\n",
        "                      stride=2)\n",
        "    )\n",
        "    self.conv_block_2 = nn.Sequential(\n",
        "        nn.Conv2d(in_channels=hidden_units,\n",
        "                  out_channels=hidden_units,\n",
        "                  kernel_size=3,\n",
        "                  stride=1,\n",
        "                  padding=0),\n",
        "        nn.ReLU(),\n",
        "        nn.Conv2d(in_channels=hidden_units,\n",
        "                  out_channels=hidden_units,\n",
        "                  kernel_size=3,\n",
        "                  stride=1,\n",
        "                  padding=0),\n",
        "        nn.ReLU(),\n",
        "        nn.MaxPool2d(kernel_size=2,\n",
        "                      stride=2)\n",
        "    )\n",
        "    self.classifier = nn.Sequential(\n",
        "        nn.Flatten(),\n",
        "        nn.Linear(in_features=hidden_units*13*13,\n",
        "                  out_features=output_shape)\n",
        "    )\n",
        "\n",
        "  def forward(self, x):\n",
        "    x = self.conv_block_1(x)\n",
        "    # print(x.shape)\n",
        "    x = self.conv_block_2(x)\n",
        "    # print(x.shape)\n",
        "    x = self.classifier(x)\n",
        "    return x"
      ]
    },
    {
      "cell_type": "code",
      "execution_count": null,
      "metadata": {
        "colab": {
          "base_uri": "https://localhost:8080/"
        },
        "id": "l3iYGgfsLIpk",
        "outputId": "da3df019-205b-4344-e432-9ef0ffc9a068"
      },
      "outputs": [],
      "source": [
        "torch.manual_seed(42)\n",
        "model_0 = TinyVGG(input_shape=3,\n",
        "                  hidden_units=10,\n",
        "                  output_shape=len(class_names)).to(device)\n",
        "model_0"
      ]
    },
    {
      "cell_type": "markdown",
      "metadata": {
        "id": "wHQEMPkQLbd1"
      },
      "source": [
        "## 7.3 Coba forward pass pada satu gambar\n"
      ]
    },
    {
      "cell_type": "code",
      "execution_count": 55,
      "metadata": {
        "id": "PoN-YTCYLwCl"
      },
      "outputs": [],
      "source": [
        "# Ambil satu batch data\n",
        "image_batch, label_batch = next(iter(train_dataloader_simple))"
      ]
    },
    {
      "cell_type": "code",
      "execution_count": null,
      "metadata": {
        "colab": {
          "base_uri": "https://localhost:8080/"
        },
        "id": "vJdUfBOhL1X6",
        "outputId": "575c15ef-efc1-4f4b-ed9a-3e1a767b6611"
      },
      "outputs": [],
      "source": [
        "# Forward pass\n",
        "model_0(image_batch.to(device))"
      ]
    },
    {
      "cell_type": "markdown",
      "metadata": {
        "id": "OLbajzWeL5oL"
      },
      "source": [
        "### 7.4 Gunakan `torchinfo` untuk mendapatkan bentuk dari model\n"
      ]
    },
    {
      "cell_type": "code",
      "execution_count": null,
      "metadata": {
        "colab": {
          "base_uri": "https://localhost:8080/"
        },
        "id": "J0KfZEi0b7k4",
        "outputId": "b757b3c1-8853-46b0-a575-5255b07045f6"
      },
      "outputs": [],
      "source": [
        "!pip install torchinfo"
      ]
    },
    {
      "cell_type": "code",
      "execution_count": null,
      "metadata": {
        "colab": {
          "base_uri": "https://localhost:8080/"
        },
        "id": "reAd4zmob_cR",
        "outputId": "06f6dba8-7d4e-47b5-c3b2-69757e5fd317"
      },
      "outputs": [],
      "source": [
        "from torchinfo import summary\n",
        "summary(model_0, input_size=[1,3,64,64])"
      ]
    },
    {
      "cell_type": "markdown",
      "metadata": {
        "id": "hqD7Co8CcBTo"
      },
      "source": [
        "## 7.5 Buat fungsi proses latih dan tes\n",
        "\n",
        "- `train_step()` - mengambil model dan dataloader untuk melatihan model di dataloader\n",
        "- `test_step()` - mengambil model dan dataloader untuk mengevaluasi dan menguji model\n"
      ]
    },
    {
      "cell_type": "code",
      "execution_count": 59,
      "metadata": {
        "id": "Y-rL9ATZdq9L"
      },
      "outputs": [],
      "source": [
        "# Create train_step()\n",
        "def train_step(model: torch.nn.Module,\n",
        "               dataloader: torch.utils.data.DataLoader,\n",
        "               loss_fn: torch.nn.Module,\n",
        "               optimizer: torch.optim.Optimizer,\n",
        "               device=device):\n",
        "  # Letakkan model dalam mode latih\n",
        "  model.train()\n",
        "\n",
        "  # Setup train loss dan akurasi\n",
        "  train_loss, train_acc = 0,0\n",
        "\n",
        "  # Loop\n",
        "  for batch, (X,y) in enumerate(dataloader):\n",
        "    X, y = X.to(device), y.to(device)\n",
        "\n",
        "    # 1. Forward pass\n",
        "    y_pred = model(X)\n",
        "\n",
        "    # 2. Kalkulasi loss\n",
        "    loss = loss_fn(y_pred, y)\n",
        "    train_loss += loss.item()\n",
        "\n",
        "    # 3. Optimizer zero grad\n",
        "    optimizer.zero_grad()\n",
        "\n",
        "    # 4. Loss backward\n",
        "    loss.backward()\n",
        "\n",
        "    # 5. Optimizer step\n",
        "    optimizer.step()\n",
        "\n",
        "    # Kalkulasi metrik akurasi\n",
        "    y_pred_class = torch.argmax(torch.softmax(y_pred, dim=1), dim=1)\n",
        "    train_acc += (y_pred_class==y).sum().item() / len(y_pred)\n",
        "\n",
        "  # Sesuaikan metrik utnuk mendapatkan rearata loss dan akurasi tiap batch\n",
        "  train_loss = train_loss / len(dataloader)\n",
        "  train_acc = train_acc / len(dataloader)\n",
        "  return train_loss, train_acc"
      ]
    },
    {
      "cell_type": "code",
      "execution_count": 60,
      "metadata": {
        "id": "4l88Q-POfTcK"
      },
      "outputs": [],
      "source": [
        "# Buat proses test\n",
        "def test_step(model: torch.nn.Module,\n",
        "              dataloader: torch.utils.data.DataLoader,\n",
        "              loss_fn: torch.nn.Module,\n",
        "              device=device):\n",
        "  # Letakkan model pada mode valuasi\n",
        "  model.eval()\n",
        "\n",
        "  # Buat test loss dan test akurasi\n",
        "  test_loss, test_acc = 0, 0\n",
        "\n",
        "  # Nyalakan inference mode\n",
        "  with torch.inference_mode():\n",
        "    for batch, (X,y) in enumerate(dataloader):\n",
        "      # Kirim data ke target device\n",
        "      X, y = X.to(device), y.to(device)\n",
        "\n",
        "      # 1. Forward pass\n",
        "      test_pred_logits = model(X)\n",
        "\n",
        "      # 2. Kalkulasi loss\n",
        "      loss = loss_fn(test_pred_logits, y)\n",
        "      test_loss += loss.item()\n",
        "\n",
        "      # Kalkulasi akurasio\n",
        "      test_pred_labels = test_pred_logits.argmax(dim=1)\n",
        "      test_acc += ((test_pred_labels == y).sum().item() / len(test_pred_labels))\n",
        "\n",
        "    # Buat matrik untuk rerata loss dan akurasi tiap batch\n",
        "    test_loss = test_loss / len(dataloader)\n",
        "    test_acc = test_acc / len(dataloader)\n",
        "    return test_loss, test_acc"
      ]
    },
    {
      "cell_type": "markdown",
      "metadata": {
        "id": "1N-NOQpuiOQi"
      },
      "source": [
        "## 7.6 Buat fungsi `train()` dan kombinasikan dengan `train_step()` dan `test_step()`\n"
      ]
    },
    {
      "cell_type": "code",
      "execution_count": null,
      "metadata": {
        "id": "QLd-NOxmheGJ"
      },
      "outputs": [],
      "source": [
        "from tqdm.auto import tqdm\n",
        " # 1. Buat fungsi train yang akan mengambil banyak macam dari parameter model + optimizer + data loader\n",
        "def train(model: torch.nn.Module,\n",
        "          train_dataloader: torch.utils.data.DataLoader,\n",
        "          test_dataloader: torch.utils.data.DataLoader,\n",
        "          optimizer: torch.optim.Optimizer,\n",
        "          loss_fn: torch.nn.Module = nn.CrossEntropyLoss(),\n",
        "          epochs: int = 5,\n",
        "          device=device):\n",
        "\n",
        "  # 2. Buat dictionary dengan results kosong\n",
        "  results = {\"train_loss\": [],\n",
        "             \"train_acc\": [],\n",
        "             \"test_loss\": [],\n",
        "             \"test_acc\": []}\n",
        "\n",
        "  # 3. Lakukan perulangan dalam fungsi training dan testing sesuai jumlah epochs\n",
        "  for epoch in tqdm(range(epochs)):\n",
        "    train_loss, train_acc = train_step(model=model,\n",
        "                                       dataloader=train_dataloader,\n",
        "                                       loss_fn=loss_fn,\n",
        "                                       optimizer=optimizer,\n",
        "                                       device=device)\n",
        "    test_loss, test_acc = test_step(model=model,\n",
        "                                    dataloader=test_dataloader,\n",
        "                                    loss_fn=loss_fn,\n",
        "                                    device=device)\n",
        "\n",
        "    # 4. Visualisasi\n",
        "    print(f\"Epoch: {epoch} | Train Loss: {train_loss:.4f} | Train Acc: {train_acc:.4f} | Test Loss: {test_loss:.4f} | Test Acc: {test_acc:.4f}\")\n",
        "\n",
        "    # 5. Update diktionari hasil\n",
        "    results[\"train_loss\"].append(train_loss)\n",
        "    results[\"train_acc\"].append(train_acc)\n",
        "    results[\"test_loss\"].append(test_loss)\n",
        "    results[\"test_acc\"].append(test_acc)\n",
        "\n",
        "  # 6. Return the fillder results\n",
        "  return results"
      ]
    },
    {
      "cell_type": "markdown",
      "metadata": {
        "id": "80bEWphxp--O"
      },
      "source": [
        "## 7.7 Latih dan evaluasi model 0\n"
      ]
    },
    {
      "cell_type": "code",
      "execution_count": 62,
      "metadata": {
        "id": "WpMpakQ-iP6_"
      },
      "outputs": [],
      "source": [
        "# Buat random seeds\n",
        "torch.manual_seed(42)\n",
        "torch.cuda.manual_seed(42)\n",
        "\n",
        "# Atur jumlah epochs\n",
        "NUM_EPOCHS = 5\n",
        "\n",
        "# Buat ulang instansi dari TinyVGG\n",
        "model_0 = TinyVGG(input_shape=3,\n",
        "                  hidden_units=10,\n",
        "                  output_shape=len(train_data.classes)).to(device)\n",
        "\n",
        "# Setup loss function dan optimizer\n",
        "loss_fn = nn.CrossEntropyLoss()\n",
        "optimizer = torch.optim.Adam(params=model_0.parameters(),\n",
        "                             lr=0.001)"
      ]
    },
    {
      "cell_type": "code",
      "execution_count": null,
      "metadata": {
        "colab": {
          "base_uri": "https://localhost:8080/"
        },
        "id": "PnbiBXzsp--P",
        "outputId": "2b4e20f9-19c4-4658-f814-595b6d32c39f"
      },
      "outputs": [],
      "source": [
        "!pip install timeit"
      ]
    },
    {
      "cell_type": "code",
      "execution_count": null,
      "metadata": {
        "colab": {
          "base_uri": "https://localhost:8080/",
          "height": 173,
          "referenced_widgets": [
            "4a72c52ef2d74204a0266467521a42d4",
            "bae963362b3f4bf59a3b13b220c7a4a7",
            "4f057b9d1473410393ff1ab5e14f84f7",
            "c8b6af76b4d74706ba05b801d68b3458",
            "699d9844068f4792936a9f01f3cfafc3",
            "0ea0e38ea07543c99159af3707c18ac3",
            "274d018cb20841aa8ebfb4cd7cea86b6",
            "33b2c9d9b0fc493495ad0a990ead7979",
            "13ec4e398f7b4ec4ada1b7599ce7159a",
            "19f6585d92d54475b453f98684102809",
            "dbf5b24914484d8fa2e2a24fe5173e6f"
          ]
        },
        "id": "MqC8XtLop--P",
        "outputId": "6ebe7696-a996-418b-8525-8769e50773ed"
      },
      "outputs": [],
      "source": [
        "from timeit import default_timer as timer\n",
        "start_time = timer()\n",
        "\n",
        "# Latih model_0\n",
        "model_0_results = train(model=model_0,\n",
        "                        train_dataloader=train_dataloader_simple,\n",
        "                        test_dataloader=test_dataloader_simple,\n",
        "                        optimizer=optimizer,\n",
        "                        loss_fn=loss_fn,\n",
        "                        epochs=NUM_EPOCHS)\n",
        "\n",
        "# Akhiri timer dan print berapa waktu yang dibutuhkan\n",
        "end_time = timer()\n",
        "print(f\"Total training time:  {end_time-start_time:.3f} seconds\")\n",
        "\n"
      ]
    },
    {
      "cell_type": "markdown",
      "metadata": {
        "id": "OAqzmBSvp--P"
      },
      "source": [
        "### 7.8 Plot kurva loss pada model_0 kita\n",
        "\n",
        "Sebuah kurva loss dapat mentracking progress model kita dari tiap waktu\n"
      ]
    },
    {
      "cell_type": "code",
      "execution_count": null,
      "metadata": {
        "colab": {
          "base_uri": "https://localhost:8080/"
        },
        "id": "V467qlyUp--P",
        "outputId": "143967a6-481c-4218-c67e-ff0ccdc4fa9c"
      },
      "outputs": [],
      "source": [
        "# Ambil results key dari model_0\n",
        "model_0_results.keys()"
      ]
    },
    {
      "cell_type": "markdown",
      "metadata": {
        "id": "PEBGBtgpp--P"
      },
      "source": []
    },
    {
      "cell_type": "code",
      "execution_count": 66,
      "metadata": {
        "id": "j_IDW5zIp--P"
      },
      "outputs": [],
      "source": [
        "def plot_loss_curves(results: Dict[str, List[float]]):\n",
        "  # Ambil niai loss dari results\n",
        "  loss = results[\"train_loss\"]\n",
        "  test_loss = results[\"test_loss\"]\n",
        "\n",
        "  # Ambil nilai akurasi dari results\n",
        "  accuracy = results[\"train_acc\"]\n",
        "  test_accuracy = results[\"test_acc\"]\n",
        "\n",
        "  # Tampilkan keadaan epoch\n",
        "  epochs = range(len(results[\"train_loss\"]))\n",
        "\n",
        "  # Buat plot\n",
        "  plt.figure(figsize=(15,7))\n",
        "\n",
        "  # Plot loss nya\n",
        "  plt.subplot(1,2,1)\n",
        "  plt.plot(epochs, loss, label=\"train_loss\")\n",
        "  plt.plot(epochs, test_loss, label=\"test_loss\")\n",
        "  plt.title(\"Loss\")\n",
        "  plt.xlabel(\"Epochs\")\n",
        "  plt.legend()\n",
        "\n",
        "  # Plot akurasi\n",
        "  plt.subplot(1,2,2)\n",
        "  plt.plot(epochs, accuracy, label=\"train_accuracy\")\n",
        "  plt.plot(epochs, test_accuracy, label=\"test_accuracy\")\n",
        "  plt.title(\"Accuracy\")\n",
        "  plt.title(\"Epochs\")\n",
        "  plt.legend()\n"
      ]
    },
    {
      "cell_type": "code",
      "execution_count": null,
      "metadata": {
        "colab": {
          "base_uri": "https://localhost:8080/",
          "height": 357
        },
        "id": "VmMSrqF8p--P",
        "outputId": "7efd5263-1671-4a11-ceeb-dccd03856a16"
      },
      "outputs": [],
      "source": [
        "plot_loss_curves(model_0_results)"
      ]
    },
    {
      "cell_type": "markdown",
      "metadata": {
        "id": "WqHNZqoLp--P"
      },
      "source": [
        "## 8. Bagaimana seharusnya kurva loss kita dibentuk?\n",
        "\n",
        "Kurva loss adalah salah satu cara keren untuk menuntaskan permasalahan dalam model\n",
        "\n",
        "- Underfitting - ketika model kita lossnyya masih terlalu tinggi, masish bisa menjadi lebih kecil\n",
        "- Overfitting - ketika loss train memiliki range jauh dengan loss test\n",
        "- Mantap - ketika range loss train dan test berdekatan\n"
      ]
    },
    {
      "cell_type": "markdown",
      "metadata": {},
      "source": [
        "# Untuk improve overfitting\n",
        "\n",
        "1. Ambil lebih banak data\n",
        "2. Gunakan data augmentasi - agar data train lebih susah untuk mempelajari gambar\n",
        "3. Gunakan dataset yang lebih baik\n",
        "4. Gunakan transfer learning\n",
        "5. Simpelkan model kita, terkadang model yang kompleks belum berarti bisa menjadi efektif\n",
        "6. Gunakan learning rate decay - memperkecil learning rate dari waktu ke waktu\n"
      ]
    },
    {
      "cell_type": "markdown",
      "metadata": {},
      "source": [
        "## 9. Model 1: TinyVGG dengan Augmentasi Data\n",
        "\n",
        "Mari mencoba model lain, kali ini menggunakan model yang sama tetapi dengan menggunakan augmentasi data\n"
      ]
    },
    {
      "cell_type": "markdown",
      "metadata": {},
      "source": [
        "### 9.1 Membuat transform dengan augmentasi data\n"
      ]
    },
    {
      "cell_type": "code",
      "execution_count": 68,
      "metadata": {},
      "outputs": [],
      "source": [
        "# Membuat transform data latih dengan TrivialAugment\n",
        "from torchvision import transforms\n",
        "train_transform_trivial = transforms.Compose([\n",
        "  transforms.Resize(size=(64,64)),\n",
        "  transforms.TrivialAugmentWide(num_magnitude_bins=31),\n",
        "  transforms.ToTensor()\n",
        "])\n",
        "test_transform_simple = transforms.Compose([\n",
        "  transforms.Resize(size=(64,64)),\n",
        "  transforms.ToTensor()\n",
        "])"
      ]
    },
    {
      "cell_type": "markdown",
      "metadata": {},
      "source": [
        "### 9.2 Membuat data train dan test `DataLoader` serta `Dataset` Data Augmentasi\n"
      ]
    },
    {
      "cell_type": "code",
      "execution_count": 69,
      "metadata": {},
      "outputs": [],
      "source": [
        "# Ubah folder gamabr menjadi Datasets\n",
        "from torchvision import datasets\n",
        "train_data_augmented = datasets.ImageFolder(root=train_dir,\n",
        "                                            transform=train_transform_trivial)\n",
        "test_data_augmented = datasets.ImageFolder(root=test_dir,\n",
        "                                           transform=test_transform_simple)"
      ]
    },
    {
      "cell_type": "code",
      "execution_count": 86,
      "metadata": {},
      "outputs": [],
      "source": [
        "# Mengubah datasets menjadi dataloaders\n",
        "import os\n",
        "from torch.utils.data import DataLoader\n",
        "\n",
        "BATCH_SIZE = 32\n",
        "NUM_WORKERS = 0\n",
        "\n",
        "torch.manual_seed(42)\n",
        "train_dataloader_augmented = DataLoader(dataset=train_data_augmented,\n",
        "                                        batch_size=BATCH_SIZE,\n",
        "                                        shuffle=True,\n",
        "                                        num_workers=NUM_WORKERS)\n",
        "\n",
        "test_dataloader_simple = DataLoader(dataset=test_data_simple,\n",
        "                                    batch_size=BATCH_SIZE,\n",
        "                                    shuffle=True,\n",
        "                                    num_workers=NUM_WORKERS)"
      ]
    },
    {
      "cell_type": "markdown",
      "metadata": {},
      "source": [
        "### 9.3 Rancang dan latih model 1\n",
        "\n",
        "Kali ini kita akan membuat arsitektur model kecuali kali ini kita menggunakan data augmentasi dari data latih\n"
      ]
    },
    {
      "cell_type": "code",
      "execution_count": null,
      "metadata": {},
      "outputs": [],
      "source": [
        "# Buat model_1 dan kirim ke target device\n",
        "torch.manual_seed(42)\n",
        "model_1 = TinyVGG(input_shape=3,\n",
        "                  hidden_units=10,\n",
        "                  output_shape=len(train_data_augmented.classes)).to(device)\n",
        "model_1"
      ]
    },
    {
      "cell_type": "markdown",
      "metadata": {},
      "source": [
        "Keren! Sekarang kita punya model dan dataloaders, kita buat loss function dan optimizer dan memanggil `train()`\n"
      ]
    },
    {
      "cell_type": "code",
      "execution_count": null,
      "metadata": {},
      "outputs": [],
      "source": [
        "# Atur random seeds\n",
        "torch.manual_seed(42)\n",
        "torch.cuda.manual_seed(42)\n",
        "\n",
        "# Atur jumlah epochs\n",
        "NUM_EPOCHS = 5\n",
        "\n",
        "# Buat loss function\n",
        "loss_fn = nn.CrossEntropyLoss()\n",
        "optimizer = torch.optim.Adam(params = model_1.parameters(),\n",
        "                             lr=0.001)\n",
        "\n",
        "# Start the timer\n",
        "from timeit import default_timer as timer\n",
        "start_time = timer()\n",
        "\n",
        "# Train model 1\n",
        "model_1_results = train(model=model_1,\n",
        "                        train_dataloader=train_dataloader_custom,\n",
        "                        test_dataloader=test_dataloader_simple,\n",
        "                        optimizer=optimizer,\n",
        "                        loss_fn=loss_fn,\n",
        "                        epochs=NUM_EPOCHS,\n",
        "                        device=device)\n",
        "\n",
        "# Akhiri timer\n",
        "end_time = timer()\n",
        "print(f\"Total waktu yang dibutuhkan untuk melatih model_1: {end_time-start_time:.3f} seconds\")"
      ]
    },
    {
      "cell_type": "code",
      "execution_count": null,
      "metadata": {},
      "outputs": [],
      "source": [
        "model_1_results"
      ]
    },
    {
      "cell_type": "markdown",
      "metadata": {},
      "source": [
        "### 9.4 Plot kurva loss dari model 1\n",
        "\n",
        "Kurva loss membantu kita mengevaluasi performa model dari waktu ke waktu\n"
      ]
    },
    {
      "cell_type": "code",
      "execution_count": null,
      "metadata": {},
      "outputs": [],
      "source": [
        "plot_loss_curves(model_1_results)"
      ]
    },
    {
      "cell_type": "markdown",
      "metadata": {},
      "source": [
        "## 10. Bandingkan hasil model\n",
        "\n",
        "Setelah mengevaluasi hasil eksperimen model, sangat penting untuk membandingkan model yang sudah kita buat.\n",
        "\n",
        "Ada beberapa cara untuk melakukannya\n",
        "\n",
        "1. Hard coding (yang akan kita lakukan)\n",
        "2. PyTorch + Tensorboard\n",
        "3. Weights & Biases\n",
        "4. MLFlow\n"
      ]
    },
    {
      "cell_type": "code",
      "execution_count": null,
      "metadata": {},
      "outputs": [],
      "source": [
        "# Lihat jika paket sudah terinstall didalam google collab\n",
        "try:\n",
        "  import pandas as pd\n",
        "except:\n",
        "  %pip install pandas"
      ]
    },
    {
      "cell_type": "code",
      "execution_count": null,
      "metadata": {},
      "outputs": [],
      "source": [
        "import pandas as pd\n",
        "model_0_df = pd.DataFrame(model_0_results)\n",
        "model_1_df = pd.DataFrame(model_1_results)\n",
        "\n",
        "model_0_df, model_1_df"
      ]
    },
    {
      "cell_type": "code",
      "execution_count": null,
      "metadata": {},
      "outputs": [],
      "source": []
    }
  ],
  "metadata": {
    "colab": {
      "include_colab_link": true,
      "provenance": []
    },
    "kernelspec": {
      "display_name": ".venv",
      "language": "python",
      "name": "python3"
    },
    "language_info": {
      "codemirror_mode": {
        "name": "ipython",
        "version": 3
      },
      "file_extension": ".py",
      "mimetype": "text/x-python",
      "name": "python",
      "nbconvert_exporter": "python",
      "pygments_lexer": "ipython3",
      "version": "3.11.9"
    },
    "widgets": {
      "application/vnd.jupyter.widget-state+json": {
        "0ea0e38ea07543c99159af3707c18ac3": {
          "model_module": "@jupyter-widgets/base",
          "model_module_version": "1.2.0",
          "model_name": "LayoutModel",
          "state": {
            "_model_module": "@jupyter-widgets/base",
            "_model_module_version": "1.2.0",
            "_model_name": "LayoutModel",
            "_view_count": null,
            "_view_module": "@jupyter-widgets/base",
            "_view_module_version": "1.2.0",
            "_view_name": "LayoutView",
            "align_content": null,
            "align_items": null,
            "align_self": null,
            "border": null,
            "bottom": null,
            "display": null,
            "flex": null,
            "flex_flow": null,
            "grid_area": null,
            "grid_auto_columns": null,
            "grid_auto_flow": null,
            "grid_auto_rows": null,
            "grid_column": null,
            "grid_gap": null,
            "grid_row": null,
            "grid_template_areas": null,
            "grid_template_columns": null,
            "grid_template_rows": null,
            "height": null,
            "justify_content": null,
            "justify_items": null,
            "left": null,
            "margin": null,
            "max_height": null,
            "max_width": null,
            "min_height": null,
            "min_width": null,
            "object_fit": null,
            "object_position": null,
            "order": null,
            "overflow": null,
            "overflow_x": null,
            "overflow_y": null,
            "padding": null,
            "right": null,
            "top": null,
            "visibility": null,
            "width": null
          }
        },
        "13ec4e398f7b4ec4ada1b7599ce7159a": {
          "model_module": "@jupyter-widgets/controls",
          "model_module_version": "1.5.0",
          "model_name": "ProgressStyleModel",
          "state": {
            "_model_module": "@jupyter-widgets/controls",
            "_model_module_version": "1.5.0",
            "_model_name": "ProgressStyleModel",
            "_view_count": null,
            "_view_module": "@jupyter-widgets/base",
            "_view_module_version": "1.2.0",
            "_view_name": "StyleView",
            "bar_color": null,
            "description_width": ""
          }
        },
        "19f6585d92d54475b453f98684102809": {
          "model_module": "@jupyter-widgets/base",
          "model_module_version": "1.2.0",
          "model_name": "LayoutModel",
          "state": {
            "_model_module": "@jupyter-widgets/base",
            "_model_module_version": "1.2.0",
            "_model_name": "LayoutModel",
            "_view_count": null,
            "_view_module": "@jupyter-widgets/base",
            "_view_module_version": "1.2.0",
            "_view_name": "LayoutView",
            "align_content": null,
            "align_items": null,
            "align_self": null,
            "border": null,
            "bottom": null,
            "display": null,
            "flex": null,
            "flex_flow": null,
            "grid_area": null,
            "grid_auto_columns": null,
            "grid_auto_flow": null,
            "grid_auto_rows": null,
            "grid_column": null,
            "grid_gap": null,
            "grid_row": null,
            "grid_template_areas": null,
            "grid_template_columns": null,
            "grid_template_rows": null,
            "height": null,
            "justify_content": null,
            "justify_items": null,
            "left": null,
            "margin": null,
            "max_height": null,
            "max_width": null,
            "min_height": null,
            "min_width": null,
            "object_fit": null,
            "object_position": null,
            "order": null,
            "overflow": null,
            "overflow_x": null,
            "overflow_y": null,
            "padding": null,
            "right": null,
            "top": null,
            "visibility": null,
            "width": null
          }
        },
        "274d018cb20841aa8ebfb4cd7cea86b6": {
          "model_module": "@jupyter-widgets/controls",
          "model_module_version": "1.5.0",
          "model_name": "DescriptionStyleModel",
          "state": {
            "_model_module": "@jupyter-widgets/controls",
            "_model_module_version": "1.5.0",
            "_model_name": "DescriptionStyleModel",
            "_view_count": null,
            "_view_module": "@jupyter-widgets/base",
            "_view_module_version": "1.2.0",
            "_view_name": "StyleView",
            "description_width": ""
          }
        },
        "33b2c9d9b0fc493495ad0a990ead7979": {
          "model_module": "@jupyter-widgets/base",
          "model_module_version": "1.2.0",
          "model_name": "LayoutModel",
          "state": {
            "_model_module": "@jupyter-widgets/base",
            "_model_module_version": "1.2.0",
            "_model_name": "LayoutModel",
            "_view_count": null,
            "_view_module": "@jupyter-widgets/base",
            "_view_module_version": "1.2.0",
            "_view_name": "LayoutView",
            "align_content": null,
            "align_items": null,
            "align_self": null,
            "border": null,
            "bottom": null,
            "display": null,
            "flex": null,
            "flex_flow": null,
            "grid_area": null,
            "grid_auto_columns": null,
            "grid_auto_flow": null,
            "grid_auto_rows": null,
            "grid_column": null,
            "grid_gap": null,
            "grid_row": null,
            "grid_template_areas": null,
            "grid_template_columns": null,
            "grid_template_rows": null,
            "height": null,
            "justify_content": null,
            "justify_items": null,
            "left": null,
            "margin": null,
            "max_height": null,
            "max_width": null,
            "min_height": null,
            "min_width": null,
            "object_fit": null,
            "object_position": null,
            "order": null,
            "overflow": null,
            "overflow_x": null,
            "overflow_y": null,
            "padding": null,
            "right": null,
            "top": null,
            "visibility": null,
            "width": null
          }
        },
        "4a72c52ef2d74204a0266467521a42d4": {
          "model_module": "@jupyter-widgets/controls",
          "model_module_version": "1.5.0",
          "model_name": "HBoxModel",
          "state": {
            "_dom_classes": [],
            "_model_module": "@jupyter-widgets/controls",
            "_model_module_version": "1.5.0",
            "_model_name": "HBoxModel",
            "_view_count": null,
            "_view_module": "@jupyter-widgets/controls",
            "_view_module_version": "1.5.0",
            "_view_name": "HBoxView",
            "box_style": "",
            "children": [
              "IPY_MODEL_bae963362b3f4bf59a3b13b220c7a4a7",
              "IPY_MODEL_4f057b9d1473410393ff1ab5e14f84f7",
              "IPY_MODEL_c8b6af76b4d74706ba05b801d68b3458"
            ],
            "layout": "IPY_MODEL_699d9844068f4792936a9f01f3cfafc3"
          }
        },
        "4f057b9d1473410393ff1ab5e14f84f7": {
          "model_module": "@jupyter-widgets/controls",
          "model_module_version": "1.5.0",
          "model_name": "FloatProgressModel",
          "state": {
            "_dom_classes": [],
            "_model_module": "@jupyter-widgets/controls",
            "_model_module_version": "1.5.0",
            "_model_name": "FloatProgressModel",
            "_view_count": null,
            "_view_module": "@jupyter-widgets/controls",
            "_view_module_version": "1.5.0",
            "_view_name": "ProgressView",
            "bar_style": "success",
            "description": "",
            "description_tooltip": null,
            "layout": "IPY_MODEL_33b2c9d9b0fc493495ad0a990ead7979",
            "max": 5,
            "min": 0,
            "orientation": "horizontal",
            "style": "IPY_MODEL_13ec4e398f7b4ec4ada1b7599ce7159a",
            "value": 5
          }
        },
        "699d9844068f4792936a9f01f3cfafc3": {
          "model_module": "@jupyter-widgets/base",
          "model_module_version": "1.2.0",
          "model_name": "LayoutModel",
          "state": {
            "_model_module": "@jupyter-widgets/base",
            "_model_module_version": "1.2.0",
            "_model_name": "LayoutModel",
            "_view_count": null,
            "_view_module": "@jupyter-widgets/base",
            "_view_module_version": "1.2.0",
            "_view_name": "LayoutView",
            "align_content": null,
            "align_items": null,
            "align_self": null,
            "border": null,
            "bottom": null,
            "display": null,
            "flex": null,
            "flex_flow": null,
            "grid_area": null,
            "grid_auto_columns": null,
            "grid_auto_flow": null,
            "grid_auto_rows": null,
            "grid_column": null,
            "grid_gap": null,
            "grid_row": null,
            "grid_template_areas": null,
            "grid_template_columns": null,
            "grid_template_rows": null,
            "height": null,
            "justify_content": null,
            "justify_items": null,
            "left": null,
            "margin": null,
            "max_height": null,
            "max_width": null,
            "min_height": null,
            "min_width": null,
            "object_fit": null,
            "object_position": null,
            "order": null,
            "overflow": null,
            "overflow_x": null,
            "overflow_y": null,
            "padding": null,
            "right": null,
            "top": null,
            "visibility": null,
            "width": null
          }
        },
        "bae963362b3f4bf59a3b13b220c7a4a7": {
          "model_module": "@jupyter-widgets/controls",
          "model_module_version": "1.5.0",
          "model_name": "HTMLModel",
          "state": {
            "_dom_classes": [],
            "_model_module": "@jupyter-widgets/controls",
            "_model_module_version": "1.5.0",
            "_model_name": "HTMLModel",
            "_view_count": null,
            "_view_module": "@jupyter-widgets/controls",
            "_view_module_version": "1.5.0",
            "_view_name": "HTMLView",
            "description": "",
            "description_tooltip": null,
            "layout": "IPY_MODEL_0ea0e38ea07543c99159af3707c18ac3",
            "placeholder": "​",
            "style": "IPY_MODEL_274d018cb20841aa8ebfb4cd7cea86b6",
            "value": "100%"
          }
        },
        "c8b6af76b4d74706ba05b801d68b3458": {
          "model_module": "@jupyter-widgets/controls",
          "model_module_version": "1.5.0",
          "model_name": "HTMLModel",
          "state": {
            "_dom_classes": [],
            "_model_module": "@jupyter-widgets/controls",
            "_model_module_version": "1.5.0",
            "_model_name": "HTMLModel",
            "_view_count": null,
            "_view_module": "@jupyter-widgets/controls",
            "_view_module_version": "1.5.0",
            "_view_name": "HTMLView",
            "description": "",
            "description_tooltip": null,
            "layout": "IPY_MODEL_19f6585d92d54475b453f98684102809",
            "placeholder": "​",
            "style": "IPY_MODEL_dbf5b24914484d8fa2e2a24fe5173e6f",
            "value": " 5/5 [00:11&lt;00:00,  2.13s/it]"
          }
        },
        "dbf5b24914484d8fa2e2a24fe5173e6f": {
          "model_module": "@jupyter-widgets/controls",
          "model_module_version": "1.5.0",
          "model_name": "DescriptionStyleModel",
          "state": {
            "_model_module": "@jupyter-widgets/controls",
            "_model_module_version": "1.5.0",
            "_model_name": "DescriptionStyleModel",
            "_view_count": null,
            "_view_module": "@jupyter-widgets/base",
            "_view_module_version": "1.2.0",
            "_view_name": "StyleView",
            "description_width": ""
          }
        }
      }
    }
  },
  "nbformat": 4,
  "nbformat_minor": 0
}
